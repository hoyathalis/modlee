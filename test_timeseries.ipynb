{
 "cells": [
  {
   "cell_type": "markdown",
   "metadata": {},
   "source": [
    "## Time series metafeatures\n",
    "\n",
    "This notebook is to test the time series meta features and see if it is working with the packages. It will also prvoide an example of using the new subclass. "
   ]
  },
  {
   "cell_type": "code",
   "execution_count": 4,
   "metadata": {},
   "outputs": [
    {
     "name": "stdout",
     "output_type": "stream",
     "text": [
      "Index(['Date', 'Symbol', 'Series', 'Prev Close', 'Open', 'High', 'Low', 'Last',\n",
      "       'Close', 'VWAP', 'Volume', 'Turnover', 'Trades', 'Deliverable Volume',\n",
      "       'Deliverble'],\n",
      "      dtype='object')\n",
      "         Date  Prev Close    Open    High     Low    Last   Close    VWAP  \\\n",
      "0  2000-01-03      157.40  166.00  170.00  166.00  170.00  170.00  169.52   \n",
      "1  2000-01-04      170.00  182.00  183.45  171.00  174.00  173.80  174.99   \n",
      "2  2000-01-05      173.80  170.00  173.90  165.00  168.00  166.95  169.20   \n",
      "3  2000-01-06      166.95  168.00  170.00  165.30  168.95  168.30  168.44   \n",
      "4  2000-01-07      168.30  162.15  171.00  162.15  170.75  168.35  166.79   \n",
      "\n",
      "   Volume      Turnover  \n",
      "0   33259  5.638122e+11  \n",
      "1  168710  2.952261e+12  \n",
      "2  159820  2.704094e+12  \n",
      "3   85026  1.432166e+12  \n",
      "4   85144  1.420158e+12  \n",
      "<class 'pandas.core.frame.DataFrame'>\n",
      "RangeIndex: 5306 entries, 0 to 5305\n",
      "Data columns (total 10 columns):\n",
      " #   Column      Non-Null Count  Dtype  \n",
      "---  ------      --------------  -----  \n",
      " 0   Date        5306 non-null   object \n",
      " 1   Prev Close  5306 non-null   float64\n",
      " 2   Open        5306 non-null   float64\n",
      " 3   High        5306 non-null   float64\n",
      " 4   Low         5306 non-null   float64\n",
      " 5   Last        5306 non-null   float64\n",
      " 6   Close       5306 non-null   float64\n",
      " 7   VWAP        5306 non-null   float64\n",
      " 8   Volume      5306 non-null   int64  \n",
      " 9   Turnover    5306 non-null   float64\n",
      "dtypes: float64(8), int64(1), object(1)\n",
      "memory usage: 414.7+ KB\n",
      "None\n"
     ]
    }
   ],
   "source": [
    "import pandas as pd\n",
    "import numpy as np\n",
    "\n",
    "#from modlee.model import data_metafeatures\n",
    "import modlee.data_metafeatures as data_metafeatures\n",
    "\n",
    "\n",
    "sample_data1 = 'data/HDFCBANK.csv'\n",
    "dataframe = pd.read_csv(sample_data1)\n",
    "print(dataframe.columns)\n",
    "dataframe.drop(columns=['Symbol', 'Series', 'Trades', 'Deliverable Volume', 'Deliverble'], inplace=True)\n",
    "#dataframe = dataframe.reset_index(drop=True)\n",
    "print(dataframe.head())\n",
    "#dataframe = dataframe.drop(columns=['Date'])\n",
    "### we print the value count of values that are NA \n",
    "print(dataframe.info())\n"
   ]
  },
  {
   "cell_type": "code",
   "execution_count": 5,
   "metadata": {},
   "outputs": [
    {
     "name": "stdout",
     "output_type": "stream",
     "text": [
      "Dataset length: 5305\n",
      "24\n"
     ]
    },
    {
     "name": "stderr",
     "output_type": "stream",
     "text": [
      "/Users/tarushsingh/Desktop/work/Python/Modlee/modlee_pypi/venv/lib/python3.10/site-packages/pytorch_forecasting/data/timeseries.py:1281: UserWarning: Min encoder length and/or min_prediction_idx and/or min prediction length and/or lags are too large for 4722 series/groups which therefore are not present in the dataset index. This means no predictions can be made for those series. First 10 removed groups: [{'__group_id__Close': 163.4}, {'__group_id__Close': 165.1}, {'__group_id__Close': 165.45}, {'__group_id__Close': 165.7}, {'__group_id__Close': 165.9}, {'__group_id__Close': 166.95}, {'__group_id__Close': 168.3}, {'__group_id__Close': 168.35}, {'__group_id__Close': 170.0}, {'__group_id__Close': 173.8}]\n",
      "  warnings.warn(\n"
     ]
    }
   ],
   "source": [
    "## We pass the values of the dataframe to the TimeseriesDataMetafeatures class\n",
    "from modlee.timeseries_dataloader import TimeseriesDataset, TimeseriesDataset1\n",
    "\n",
    "if dataframe.empty:\n",
    "    raise ValueError(\"The DataFrame is empty. Please provide a valid DataFrame.\")\n",
    "\n",
    "# Ensure the index is of integer type\n",
    "\n",
    "dataset = TimeseriesDataset1(data=dataframe, input_seq=1, output_seq=1, target='Close', time_column='Date')\n",
    "loader = dataset.to_dataloader(batch_size=1, shuffle=False)\n",
    "print(len(loader))\n",
    "#loader = torch.utils.data.DataLoader(dataset, batch_size=1, shuffle=False)"
   ]
  },
  {
   "cell_type": "code",
   "execution_count": 6,
   "metadata": {},
   "outputs": [
    {
     "name": "stdout",
     "output_type": "stream",
     "text": [
      "Loader length: 24\n"
     ]
    },
    {
     "data": {
      "text/plain": [
       "'\\nfor i, batch in enumerate(loader):\\n    print(f\"Processing batch {i}\")\\n    try:\\n        if batch is None:\\n            raise ValueError(f\"Batch {i} is None.\")\\n        print(f\"Batch {i} content: {batch}\")\\n        break  # Inspect only the first batch for now\\n    except Exception as e:\\n        print(f\"Error processing batch {i}: {e}\")'"
      ]
     },
     "execution_count": 6,
     "metadata": {},
     "output_type": "execute_result"
    }
   ],
   "source": [
    "timeseriesmeta = data_metafeatures.TimeseriesDataMetafeatures(loader)\n",
    "print(f\"Loader length: {len(loader)}\")\n",
    "\n",
    "'''#print(f\"Shape of data: {timeseriesmeta.getShape()}\")\n",
    "metafeatures = timeseriesmeta.calculate_metafeatures()\n",
    "if not metafeatures:\n",
    "    raise ValueError(\"No metafeatures calculated. Please check the input data and parameters.\")\n",
    "\n",
    "# Print metafeatures\n",
    "max_key_length = max([len(key) for key in metafeatures.keys()])\n",
    "for key, value in metafeatures.items():\n",
    "    print(f\"{key:<{max_key_length}} : {value}\")'''\n",
    "\n",
    "'''\n",
    "for i, batch in enumerate(loader):\n",
    "    print(f\"Processing batch {i}\")\n",
    "    try:\n",
    "        if batch is None:\n",
    "            raise ValueError(f\"Batch {i} is None.\")\n",
    "        print(f\"Batch {i} content: {batch}\")\n",
    "        break  # Inspect only the first batch for now\n",
    "    except Exception as e:\n",
    "        print(f\"Error processing batch {i}: {e}\")'''"
   ]
  }
 ],
 "metadata": {
  "kernelspec": {
   "display_name": "venv",
   "language": "python",
   "name": "python3"
  },
  "language_info": {
   "codemirror_mode": {
    "name": "ipython",
    "version": 3
   },
   "file_extension": ".py",
   "mimetype": "text/x-python",
   "name": "python",
   "nbconvert_exporter": "python",
   "pygments_lexer": "ipython3",
   "version": "3.10.14"
  }
 },
 "nbformat": 4,
 "nbformat_minor": 2
}
