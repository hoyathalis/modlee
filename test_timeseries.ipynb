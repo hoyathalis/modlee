{
 "cells": [
  {
   "cell_type": "markdown",
   "metadata": {},
   "source": [
    "## Time series metafeatures\n",
    "\n",
    "This notebook is to test the time series meta features and see if it is working with the packages. It will also prvoide an example of using the new subclass. "
   ]
  },
  {
   "cell_type": "code",
   "execution_count": 1,
   "metadata": {},
   "outputs": [
    {
     "name": "stderr",
     "output_type": "stream",
     "text": [
      "/Users/tarushsingh/Desktop/work/Python/Modlee/modleeTime/modlee_pypi/venv/lib/python3.12/site-packages/tqdm/auto.py:21: TqdmWarning: IProgress not found. Please update jupyter and ipywidgets. See https://ipywidgets.readthedocs.io/en/stable/user_install.html\n",
      "  from .autonotebook import tqdm as notebook_tqdm\n"
     ]
    },
    {
     "name": "stdout",
     "output_type": "stream",
     "text": [
      "         Date    Low   Open  Volume   High  Close  Adjusted Close\n",
      "0  06-04-2011  14.75  14.75    3400  15.05  14.75        6.782170\n",
      "1  07-04-2011  14.45  14.45    1600  14.50  14.50        6.667218\n",
      "2  08-04-2011  14.64  14.64    1800  14.64  14.64        6.731590\n",
      "3  11-04-2011  14.75  14.89     800  14.89  14.75        6.782170\n",
      "4  12-04-2011  14.95  14.95     200  14.95  14.95        6.874131\n"
     ]
    }
   ],
   "source": [
    "import pandas as pd\n",
    "import numpy as np\n",
    "\n",
    "#from modlee.model import data_metafeatures\n",
    "import modlee.data_metafeatures as data_metafeatures\n",
    "\n",
    "\n",
    "sample_data1 = 'data/ACGBY.csv'\n",
    "dataframe = pd.read_csv(sample_data1)\n",
    "print(dataframe.head())\n",
    "dataframe = dataframe.drop(columns=['Date'])"
   ]
  },
  {
   "cell_type": "code",
   "execution_count": 2,
   "metadata": {},
   "outputs": [],
   "source": [
    "## We pass the values of the dataframe to the TimeSeriesDataMetafeatures class\n",
    "from modlee.timeseries_dataloader import TimeSeriesDataset\n",
    "from torch.utils.data import DataLoader\n",
    "\n",
    "dataLoader = TimeSeriesDataset(data=dataframe, input_seq=2, output_seq=1, target='Close')\n",
    "loader = DataLoader(dataLoader, batch_size=8, shuffle=True)"
   ]
  },
  {
   "cell_type": "code",
   "execution_count": 3,
   "metadata": {},
   "outputs": [
    {
     "name": "stdout",
     "output_type": "stream",
     "text": [
      "{'attr_conc.mean': 0.2860573128682024, 'attr_conc.sd': 0.28623158167543705, 'attr_ent.mean': 4.169397984736713, 'attr_ent.sd': 0.0006484086134231621, 'cor.mean': 0.5351315121409552, 'cor.sd': 0.394451610406129, 'cov.mean': 6271.599366548931, 'cov.sd': 9686.530833831614, 'eigenvalues.mean': 336119281.4030674, 'eigenvalues.sd': 823320726.6992403, 'g_mean.mean': 8.256203308184562, 'g_mean.sd': 4.284621353686025, 'h_mean.mean': 8.155285547220677, 'h_mean.sd': 4.239096266857641, 'iq_range.mean': 2485.1574682593346, 'iq_range.sd': 6082.005888388716, 'kurtosis.mean': 29.31018750773951, 'kurtosis.sd': 72.40039376327101, 'mad.mean': 1261.5212723123548, 'mad.sd': 3086.2290817123226, 'max.mean': 187395.7000617981, 'max.sd': 458987.4945371431, 'mean.mean': 3158.336772626499, 'mean.sd': 7711.750310356155, 'median.mean': 1091.6875184377034, 'median.sd': 2649.5215031321604, 'min.mean': 5.280979752540588, 'min.sd': 2.9710685955884055, 'nr_cor_attr': 0.4, 'nr_norm': 0.0, 'nr_outliers': 6, 'range.mean': 187390.41908204556, 'range.sd': 458990.08167489816, 'sd.mean': 7485.933245895262, 'sd.sd': 18332.923984167963, 'skewness.mean': 1.8505440534316764, 'skewness.sd': 3.976579263133575, 'sparsity.mean': 0.0011697164238181673, 'sparsity.sd': 0.0003906516719182339, 't_mean.mean': 1350.093985225811, 't_mean.sd': 3282.5343294939075, 'var.mean': 336119281.4030674, 'var.sd': 823320726.2368207, 'col_0_quantile_25': 9.470000267028809, 'col_0_quantile_50': 10.59000015258789, 'col_0_quantile_75': 11.680000305175781, 'col_0_autocorr_lag1': 0.49764675565155314, 'col_0_partial_autocorr_lag1': 0.497731432656088, 'col_0_trend_strength': 10.665324335957473, 'col_0_seasonal_strength': 1.4661723420409969e-05, 'col_1_quantile_25': 9.529999732971191, 'col_1_quantile_50': 10.65999984741211, 'col_1_quantile_75': 11.760000228881836, 'col_1_autocorr_lag1': 0.49614226418750734, 'col_1_partial_autocorr_lag1': 0.49622668519553637, 'col_1_trend_strength': 10.732365718954096, 'col_1_seasonal_strength': 1.3192798952236058e-05, 'col_2_quantile_25': 2300.0, 'col_2_quantile_50': 6500.0, 'col_2_quantile_75': 17200.0, 'col_2_autocorr_lag1': 0.23346737352913932, 'col_2_partial_autocorr_lag1': 0.23350709913293868, 'col_2_trend_strength': 18893.74947455289, 'col_2_seasonal_strength': 0.12889604601724353, 'col_3_quantile_25': 9.600000381469727, 'col_3_quantile_50': 10.744999885559082, 'col_3_quantile_75': 11.819999694824219, 'col_3_autocorr_lag1': 0.4972675099549285, 'col_3_partial_autocorr_lag1': 0.49735212242897225, 'col_3_trend_strength': 10.802274424165091, 'col_3_seasonal_strength': 1.3641926645810332e-05, 'col_4_quantile_25': 9.520000457763672, 'col_4_quantile_50': 10.680000305175781, 'col_4_quantile_75': 11.760000228881836, 'col_4_autocorr_lag1': 0.4968084401203384, 'col_4_partial_autocorr_lag1': 0.4968929744814274, 'col_4_trend_strength': 10.738812695881558, 'col_4_seasonal_strength': 1.5148913836305909e-05, 'col_5_quantile_25': 6.118650794029236, 'col_5_quantile_50': 7.45011043548584, 'col_5_quantile_75': 8.163460731506348, 'col_5_autocorr_lag1': 0.4828129608567708, 'col_5_partial_autocorr_lag1': 0.48289511381931244, 'col_5_trend_strength': 7.20320304609062, 'col_5_seasonal_strength': -1.952540392128991e-06}\n"
     ]
    }
   ],
   "source": [
    "timeseriesmeta = data_metafeatures.TimeSeriesDataMetafeatures(loader)\n",
    "print(timeseriesmeta.calculateMetafeatures())"
   ]
  }
 ],
 "metadata": {
  "kernelspec": {
   "display_name": "venv",
   "language": "python",
   "name": "python3"
  },
  "language_info": {
   "codemirror_mode": {
    "name": "ipython",
    "version": 3
   },
   "file_extension": ".py",
   "mimetype": "text/x-python",
   "name": "python",
   "nbconvert_exporter": "python",
   "pygments_lexer": "ipython3",
   "version": "3.12.4"
  }
 },
 "nbformat": 4,
 "nbformat_minor": 2
}
