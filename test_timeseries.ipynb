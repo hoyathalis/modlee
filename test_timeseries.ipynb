{
 "cells": [
  {
   "cell_type": "markdown",
   "metadata": {},
   "source": [
    "## Time series metafeatures\n",
    "\n",
    "This notebook is to test the time series meta features and see if it is working with the packages. It will also prvoide an example of using the new subclass. "
   ]
  },
  {
   "cell_type": "code",
   "execution_count": 2,
   "metadata": {},
   "outputs": [
    {
     "name": "stdout",
     "output_type": "stream",
     "text": [
      "         Date    Low   Open  Volume   High  Close  Adjusted Close\n",
      "0  06-04-2011  14.75  14.75    3400  15.05  14.75        6.782170\n",
      "1  07-04-2011  14.45  14.45    1600  14.50  14.50        6.667218\n",
      "2  08-04-2011  14.64  14.64    1800  14.64  14.64        6.731590\n",
      "3  11-04-2011  14.75  14.89     800  14.89  14.75        6.782170\n",
      "4  12-04-2011  14.95  14.95     200  14.95  14.95        6.874131\n"
     ]
    }
   ],
   "source": [
    "import pandas as pd\n",
    "import numpy as np\n",
    "\n",
    "#from modlee.model import data_metafeatures\n",
    "import modlee.data_metafeatures as data_metafeatures\n",
    "\n",
    "\n",
    "sample_data1 = 'data/ACGBY.csv'\n",
    "dataframe = pd.read_csv(sample_data1)\n",
    "print(dataframe.head())\n",
    "dataframe = dataframe.drop(columns=['Date'])"
   ]
  },
  {
   "cell_type": "code",
   "execution_count": 3,
   "metadata": {},
   "outputs": [],
   "source": [
    "## We pass the values of the dataframe to the TimeSeriesDataMetafeatures class\n",
    "from modlee.timeseries_dataloader import TimeSeriesDataset\n",
    "from torch.utils.data import DataLoader\n",
    "\n",
    "dataLoader = TimeSeriesDataset(data=dataframe, input_seq=2, output_seq=1, target='Close')\n",
    "loader = DataLoader(dataLoader, batch_size=8, shuffle=True)"
   ]
  },
  {
   "cell_type": "code",
   "execution_count": 5,
   "metadata": {},
   "outputs": [
    {
     "name": "stdout",
     "output_type": "stream",
     "text": [
      "attr_conc.mean              : 0.2860573128682024\n",
      "attr_conc.sd                : 0.28623158167543705\n",
      "attr_ent.mean               : 4.169397984736713\n",
      "attr_ent.sd                 : 0.0006484086134231621\n",
      "cor.mean                    : 0.5351315121409552\n",
      "cor.sd                      : 0.394451610406129\n",
      "cov.mean                    : 6271.59936654893\n",
      "cov.sd                      : 9686.530833831615\n",
      "eigenvalues.mean            : 336119281.4030672\n",
      "eigenvalues.sd              : 823320726.6992397\n",
      "g_mean.mean                 : 8.256203308184562\n",
      "g_mean.sd                   : 4.284621353686025\n",
      "h_mean.mean                 : 8.155285547220677\n",
      "h_mean.sd                   : 4.239096266857642\n",
      "iq_range.mean               : 2485.1574682593346\n",
      "iq_range.sd                 : 6082.005888388716\n",
      "kurtosis.mean               : 29.31018750773951\n",
      "kurtosis.sd                 : 72.40039376327101\n",
      "mad.mean                    : 1261.5212723123548\n",
      "mad.sd                      : 3086.2290817123226\n",
      "max.mean                    : 187395.7000617981\n",
      "max.sd                      : 458987.4945371431\n",
      "mean.mean                   : 3158.336772626499\n",
      "mean.sd                     : 7711.750310356155\n",
      "median.mean                 : 1091.6875184377034\n",
      "median.sd                   : 2649.5215031321604\n",
      "min.mean                    : 5.280979752540588\n",
      "min.sd                      : 2.9710685955884055\n",
      "nr_cor_attr                 : 0.4\n",
      "nr_norm                     : 0.0\n",
      "nr_outliers                 : 6\n",
      "range.mean                  : 187390.41908204556\n",
      "range.sd                    : 458990.08167489816\n",
      "sd.mean                     : 7485.93324589526\n",
      "sd.sd                       : 18332.92398416796\n",
      "skewness.mean               : 1.8505440534316764\n",
      "skewness.sd                 : 3.976579263133576\n",
      "sparsity.mean               : 0.0011697164238181673\n",
      "sparsity.sd                 : 0.0003906516719182339\n",
      "t_mean.mean                 : 1350.093985225811\n",
      "t_mean.sd                   : 3282.5343294939075\n",
      "var.mean                    : 336119281.40306735\n",
      "var.sd                      : 823320726.2368205\n",
      "col_0_quantile_25           : 9.470000267028809\n",
      "col_0_quantile_50           : 10.59000015258789\n",
      "col_0_quantile_75           : 11.680000305175781\n",
      "col_0_autocorr_lag1         : 0.49701018273013614\n",
      "col_0_partial_autocorr_lag1 : 0.4970947514187069\n",
      "col_0_trend_strength        : 10.664355553005889\n",
      "col_0_seasonal_strength     : -1.1637673106908141e-05\n",
      "col_1_quantile_25           : 9.529999732971191\n",
      "col_1_quantile_50           : 10.65999984741211\n",
      "col_1_quantile_75           : 11.760000228881836\n",
      "col_1_autocorr_lag1         : 0.4970638328087204\n",
      "col_1_partial_autocorr_lag1 : 0.4971484106261117\n",
      "col_1_trend_strength        : 10.731352454374402\n",
      "col_1_seasonal_strength     : -1.2433722254391508e-05\n",
      "col_2_quantile_25           : 2300.0\n",
      "col_2_quantile_50           : 6500.0\n",
      "col_2_quantile_75           : 17200.0\n",
      "col_2_autocorr_lag1         : 0.20193823791982723\n",
      "col_2_partial_autocorr_lag1 : 0.20197259868857315\n",
      "col_2_trend_strength        : 18899.62815942422\n",
      "col_2_seasonal_strength     : -0.5328880407873421\n",
      "col_3_quantile_25           : 9.600000381469727\n",
      "col_3_quantile_50           : 10.744999885559082\n",
      "col_3_quantile_75           : 11.819999694824219\n",
      "col_3_autocorr_lag1         : 0.4989386774528205\n",
      "col_3_partial_autocorr_lag1 : 0.499023574284104\n",
      "col_3_trend_strength        : 10.80132928641137\n",
      "col_3_seasonal_strength     : -1.3140396978957991e-05\n",
      "col_4_quantile_25           : 9.520000457763672\n",
      "col_4_quantile_50           : 10.680000305175781\n",
      "col_4_quantile_75           : 11.760000228881836\n",
      "col_4_autocorr_lag1         : 0.49794078088289234\n",
      "col_4_partial_autocorr_lag1 : 0.4980255079172437\n",
      "col_4_trend_strength        : 10.73789883863566\n",
      "col_4_seasonal_strength     : -1.3256909108900585e-05\n",
      "col_5_quantile_25           : 6.118650794029236\n",
      "col_5_quantile_50           : 7.45011043548584\n",
      "col_5_quantile_75           : 8.163460731506348\n",
      "col_5_autocorr_lag1         : 0.4960855560850037\n",
      "col_5_partial_autocorr_lag1 : 0.49616996744387487\n",
      "col_5_trend_strength        : 7.204357907028805\n",
      "col_5_seasonal_strength     : -2.8230652550802113e-05\n"
     ]
    }
   ],
   "source": [
    "timeseriesmeta = data_metafeatures.TimeSeriesDataMetafeatures(loader)\n",
    "#print(timeseriesmeta.calculateMetafeatures())\n",
    "max_key_length = max([len(key) for key in timeseriesmeta.calculateMetafeatures().keys()])\n",
    "for key, value in timeseriesmeta.calculateMetafeatures().items():\n",
    "    print(f\"{key:<{max_key_length}} : {value}\")"
   ]
  }
 ],
 "metadata": {
  "kernelspec": {
   "display_name": "venv",
   "language": "python",
   "name": "python3"
  },
  "language_info": {
   "codemirror_mode": {
    "name": "ipython",
    "version": 3
   },
   "file_extension": ".py",
   "mimetype": "text/x-python",
   "name": "python",
   "nbconvert_exporter": "python",
   "pygments_lexer": "ipython3",
   "version": "3.12.4"
  }
 },
 "nbformat": 4,
 "nbformat_minor": 2
}
