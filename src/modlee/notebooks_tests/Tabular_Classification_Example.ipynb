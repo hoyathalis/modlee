{
  "cells": [
    {
      "cell_type": "markdown",
      "metadata": {
        "id": "JYEOUocyTkUV"
      },
      "source": [
        "# **Tabular Classification with Modlee: An End-to-End Tutorial**\n",
        "\n",
        "In this tutorial, we'll guide you through a complete project using the Modlee package for tabular data classification. We'll use a diabetes dataset to show you how to:\n",
        "\n",
        "1. Prepare the Data: Load and preprocess the dataset, including scaling and splitting into training and validation sets.\n",
        "2. Use Modlee for Model Training: Train a model using Modlee's framework.\n",
        "3. Implement and Train a Custom Model: Build a custom model, integrate it with Modlee, and train it.\n",
        "4. Evaluate Model: Assess the performance of the custom model on the validation data.\n",
        "\n",
        "## Tips\n",
        "For best performance, ensure that the runtime is set to use a GPU (`Runtime > Change runtime type > T4 GPU`).\n",
        "\n",
        "## Help & Questions\n",
        "\n",
        "If you have any questions, please reachout on our [Discord](https://discord.gg/dncQwFdN9m).\n",
        "\n",
        "You can also use our [documenation](https://docs.modlee.ai/README.html) as a reference for using our package."
      ]
    },
    {
      "cell_type": "markdown",
      "metadata": {
        "id": "Qx9LuWnomG_5"
      },
      "source": [
        "# **Environment Setup**\n",
        "## Step 1:\n",
        "\n",
        "First, we need to make sure that we have the necessary packages installed. We will need `modlee` and its related packages."
      ]
    },
    {
      "cell_type": "markdown",
      "metadata": {
        "id": "GejtHzFGmKX2"
      },
      "source": [
        "## Step 2: Importing Libraries and Setting Up Environment\n",
        "\n",
        "In this section, we import the necessary libraries and set up the environment. We include a workaround to handle `SSL` verification errors that might occur when working in certain environments."
      ]
    },
    {
      "cell_type": "code",
      "execution_count": null,
      "metadata": {},
      "outputs": [],
      "source": [
        "!pip3 install modlee torch torchvision pytorch-lightning torchtext==0.18.0"
      ]
    },
    {
      "cell_type": "code",
      "execution_count": null,
      "metadata": {
        "id": "7QbF6KJlz2SM"
      },
      "outputs": [],
      "source": [
        "import pandas as pd\n",
        "from sklearn.preprocessing import StandardScaler\n",
        "import torch\n",
        "import os\n",
        "import modlee\n",
        "import lightning.pytorch as pl\n",
        "from torch.utils.data import DataLoader, TensorDataset, random_split\n",
        "from sklearn.model_selection import train_test_split\n",
        "import ssl\n",
        "ssl._create_default_https_context = ssl._create_unverified_context\n"
      ]
    },
    {
      "cell_type": "markdown",
      "metadata": {
        "id": "-8GttHuKmaQG"
      },
      "source": [
        "## Step 3: Setting Up Modlee API Key\n",
        "\n",
        "Here, we will set our Modlee API key and initialize the Modlee package.\n",
        "Make sure that you have a Modlee account and an API key [from the dashboard](https://www.dashboard.modlee.ai/).\n",
        "Replace `replace-with-your-api-key` with your API key."
      ]
    },
    {
      "cell_type": "code",
      "execution_count": null,
      "metadata": {
        "id": "G39yiDdVz25G"
      },
      "outputs": [],
      "source": [
        "# Set the API key to an environment variable,\n",
        "# to simulate setting this in your shell profile\n",
        "os.environ['MODLEE_API_KEY'] = \"OktSzjtS27JkuFiqpuzzyZCORw88Cz0P\"\n",
        "modlee.init(api_key=os.environ['MODLEE_API_KEY'])\n"
      ]
    },
    {
      "cell_type": "markdown",
      "metadata": {
        "id": "nsovMV8imqcZ"
      },
      "source": [
        "# **Dataset Preparation**\n",
        "## Step 1:\n",
        "\n",
        "For this example, we will manually download the diabetes dataset from Kaggle and upload it to your Google Colab environment.\n",
        "\n",
        "1. Visit the [Diabetes CSV dataset page](https://www.kaggle.com/datasets/saurabh00007/diabetescsv) on Kaggle.\n",
        "2. Click the \"Download\" button to save the dataset (diabetes.csv) to your local machine.\n",
        "3. In your Colab notebook, click on the file icon on the left side and upload the CSV file.\n",
        "\n",
        "This section ensures that the dataset is ready for use in the subsequent steps. The path to the dataset in the Colab environment will be `/content/diabetes.csv`, which you can then use in your data processing code."
      ]
    },
    {
      "cell_type": "markdown",
      "metadata": {
        "id": "SsNjFGSuozSi"
      },
      "source": [
        "\n",
        "## Step 2:\n",
        "\n",
        "We define a custom dataset class `TabularDataset` for handling our tabular data. This class inherits from `torch.utils.data.Dataset` and is used to manage the `features (X)` and `labels (y)` of our dataset."
      ]
    },
    {
      "cell_type": "code",
      "execution_count": null,
      "metadata": {
        "id": "MKTi8TwvnpYV"
      },
      "outputs": [],
      "source": [
        "class TabularDataset(TensorDataset):\n",
        "    def __init__(self, data, target):\n",
        "        self.data = torch.tensor(data, dtype=torch.float32)  # Convert features to tensors\n",
        "        self.target = torch.tensor(target, dtype=torch.long) # Convert labels to long integers for classification\n",
        "\n",
        "    def __len__(self):\n",
        "        return len(self.data) # Return the size of the dataset\n",
        "\n",
        "    def __getitem__(self, idx):\n",
        "        return self.data[idx], self.target[idx] # Return a single sample from the dataset"
      ]
    },
    {
      "cell_type": "markdown",
      "metadata": {
        "id": "FBTp3uokn1Wf"
      },
      "source": [
        "## Step 3: Loading and Preprocessing the Data\n",
        "\n",
        "This section explains how to load and prepare the diabetes dataset for training.\n",
        "\n",
        "First, the data is loaded into a `Pandas DataFrame`, with `features (X)` and `labels (y)` separated. The labels are in the `'Outcome'` column. The features are then scaled using `StandardScaler` to ensure consistent input for the model.\n",
        "\n",
        "Next, a custom `TabularDataset` is created to handle this data in `PyTorch`. The dataset is split into training and validation sets, and `DataLoader` instances are created to efficiently manage data during training.\n",
        "\n",
        "Finally, the function returns these `DataLoaders` for use in the model training process."
      ]
    },
    {
      "cell_type": "code",
      "execution_count": null,
      "metadata": {
        "id": "9gaFyVxRz4fV"
      },
      "outputs": [],
      "source": [
        "def get_diabetes_dataloaders(batch_size=32, val_split=0.2, shuffle=True):\n",
        "    dataset_path = \"/Users/mansiagrawal/Downloads/diabetes.csv\"\n",
        "    df = pd.read_csv(dataset_path) # Load the CSV file into a DataFrame\n",
        "    X = df.drop('Outcome', axis=1).values # Features (X) - drop the target column\n",
        "    y = df['Outcome'].values # Labels (y) - the target column\n",
        "    scaler = StandardScaler() # Initialize the scaler for feature scaling\n",
        "    X_scaled = scaler.fit_transform(X) # Scale the features\n",
        "    dataset = TabularDataset(X_scaled, y) # Create a TabularDataset instance\n",
        "\n",
        "    # Split the dataset into training and validation sets\n",
        "    dataset_size = len(dataset)\n",
        "    val_size = int(val_split * dataset_size)\n",
        "    train_size = dataset_size - val_size\n",
        "    train_dataset, val_dataset = random_split(dataset, [train_size, val_size])\n",
        "\n",
        "    # Create DataLoader instances for training and validation\n",
        "    train_dataloader = DataLoader(train_dataset, batch_size=batch_size, shuffle=shuffle)\n",
        "    val_dataloader = DataLoader(val_dataset, batch_size=batch_size, shuffle=shuffle)\n",
        "\n",
        "    return train_dataloader, val_dataloader\n",
        "\n",
        "# Generate the DataLoaders\n",
        "train_dataloader, val_dataloader = get_diabetes_dataloaders(batch_size=32, val_split=0.2, shuffle=True)"
      ]
    },
    {
      "cell_type": "markdown",
      "metadata": {
        "id": "D5L6Wk4Oi57h"
      },
      "source": [
        "# **Defining the Custom Model**\n",
        "Here, we define a simple feedforward neural network `TabularClassifier`. The network has multiple fully connected layers with dropout for regularization.\n",
        "\n",
        "\n",
        "\n",
        "\n",
        "The `TabularClassifier` is a straightforward neural network for classification. It has four fully connected layers, reducing the neurons from 128 to 1. Each layer uses the `selu activation` function for non-linearity, and `AlphaDropout` is applied to prevent overfitting. This simple architecture effectively handles tabular data for classification."
      ]
    },
    {
      "cell_type": "code",
      "execution_count": null,
      "metadata": {
        "id": "CmxUIbODz6rN"
      },
      "outputs": [],
      "source": [
        "\n",
        "class TabularClassifier(modlee.model.TabularClassificationModleeModel):\n",
        "    def __init__(self, input_dim, num_classes=2):\n",
        "        super().__init__()\n",
        "        self.fc1 = torch.nn.Linear(input_dim, 128)  # First hidden layer\n",
        "        self.dropout1 = torch.nn.AlphaDropout(0.1)  # Dropout to prevent overfitting\n",
        "\n",
        "        self.fc2 = torch.nn.Linear(128, 64)  # Second hidden layer\n",
        "        self.dropout2 = torch.nn.AlphaDropout(0.1)  # Dropout to prevent overfitting\n",
        "\n",
        "        self.fc3 = torch.nn.Linear(64, 32)  # Third hidden layer\n",
        "        self.dropout3 = torch.nn.AlphaDropout(0.1)  # Dropout to prevent overfitting\n",
        "\n",
        "        self.fc4 = torch.nn.Linear(32, num_classes)  # Output layer\n",
        "\n",
        "        self.loss_fn = torch.nn.CrossEntropyLoss()\n",
        "\n",
        "    def forward(self, x):\n",
        "        x = torch.selu(self.fc1(x))  # Apply SELU activation to the first layer\n",
        "        x = self.dropout1(x)  # Apply dropout\n",
        "\n",
        "        x = torch.selu(self.fc2(x))  # Apply SELU activation to the second layer\n",
        "        x = self.dropout2(x)  # Apply dropout\n",
        "\n",
        "        x = torch.selu(self.fc3(x))  # Apply SELU activation to the third layer\n",
        "        x = self.dropout3(x)  # Apply dropout\n",
        "\n",
        "        x = self.fc4(x)  # Output layer without activation (for binary classification)\n",
        "        return x\n",
        "    \n",
        "    def training_step(self, batch, batch_idx):\n",
        "        x, y_target = batch\n",
        "        y_pred = self(x)\n",
        "        loss = self.loss_fn(y_pred, y_target.squeeze()) # Calculate the loss\n",
        "        return {\"loss\": loss}\n",
        "\n",
        "    def validation_step(self, val_batch, batch_idx):\n",
        "        x, y_target = val_batch\n",
        "        y_pred = self(x)\n",
        "        val_loss = self.loss_fn(y_pred, y_target.squeeze()) # Calculate validation loss\n",
        "        return {'val_loss': val_loss}\n",
        "\n",
        "    def configure_optimizers(self):\n",
        "        optimizer = torch.optim.SGD(self.parameters(), lr=0.001, momentum=0.9)  # Define the optimizer\n",
        "        return optimizer"
      ]
    },
    {
      "cell_type": "markdown",
      "metadata": {
        "id": "oMQxrSUgrJwx"
      },
      "source": [
        "# **Integrating the Custom Model with Modlee**\n",
        "\n",
        "\n",
        "The `ModleeTabularClassifier` class integrates the `TabularClassifier` with Modlee's framework. It handles the forward pass, calculates loss during training and validation, and sets up the `optimizer (SGD)`. This class enables efficient training and evaluation of the model within the `Modlee` environment."
      ]
    },
    {
      "cell_type": "markdown",
      "metadata": {
        "id": "ray2y8ZttKRL"
      },
      "source": [
        "# **Training the Model**\n",
        "\n",
        "Here, we train the `ModleeTabularClassifier` using `PyTorch Lightning`. We first determine the input and output dimensions from the dataset. After initializing the model, we use `PyTorch Lightning's Trainer` to train the model for one epoch and evaluate it with the validation data. This setup simplifies managing the training and validation process."
      ]
    },
    {
      "cell_type": "code",
      "execution_count": null,
      "metadata": {
        "colab": {
          "base_uri": "https://localhost:8080/",
          "height": 845,
          "referenced_widgets": [
            "977c4e08250c4409be6cc7d559e93846",
            "ad6a618bf51d41cd8dd6f21f2037fbf2",
            "f19fa33355ea40849d9314a6f59ae386",
            "1f3a773ca834422397657d2320b63a24",
            "1f5d92c5b5c1448ab56c430a48db53b1",
            "6aa9d79a5b964aaaacbff16ab7a01d36",
            "9e885a8a68ee426da874511325298208",
            "1793efc0dfd2428eaef31f5a41fad810",
            "12f05e8f5b294a1ea7dd3a295957ae74",
            "e95a1b1b108f4e5ab6762c19a3f678fc",
            "115f4fe00fa045eb8d60d26fac6004bf",
            "c9865cb952a344eeba86e355689fa498",
            "a1b000e882db46d58e69c1b43bc2bf98",
            "53e862294c324729987fb8229db0e70a",
            "92a8956f2710417b80aa8800b555f851",
            "d01307530003498991519f673178139a",
            "5ff42d9d01014d29b04be82228bd361c",
            "059224741e0f4d359d432229757e4d64",
            "229c87ab844e43c8ae2f22d1b2968361",
            "250136542357472a8b4a7c14af2f25dd",
            "e8728fc0389e4e01b959289ef2aa4086",
            "d10fa274261241f6888604ea95e531e4"
          ]
        },
        "id": "t4icJxJ8z8sG",
        "outputId": "cff9ca8f-6063-492b-c64a-d51ae3692d8c"
      },
      "outputs": [],
      "source": [
        "# Get the input dimension\n",
        "original_train_dataset = train_dataloader.dataset.dataset # Access the original dataset\n",
        "input_dim = len(original_train_dataset[0][0])\n",
        "num_classes = 2  # Binary classification\n",
        "\n",
        "# Initialize the Modlee model\n",
        "modlee_model = TabularClassifier(input_dim=input_dim, num_classes=num_classes)\n",
        "\n",
        "# Train the model using PyTorch Lightning\n",
        "with modlee.start_run() as run:\n",
        "    trainer = pl.Trainer(max_epochs=1)\n",
        "    trainer.fit(\n",
        "        model=modlee_model,\n",
        "        train_dataloaders=train_dataloader,\n",
        "        val_dataloaders=val_dataloader\n",
        "    )\n"
      ]
    },
    {
      "cell_type": "markdown",
      "metadata": {
        "id": "9Va2ExpUtuVS"
      },
      "source": [
        "# **Evaluating the Model**\n",
        "After training, we evaluate the model by predicting on the validation set and calculating the accuracy. We disable gradient computation for efficiency, collect predictions and true labels, and use `accuracy_score` to measure performance. Finally, we print the accuracy to assess the model's effectiveness."
      ]
    },
    {
      "cell_type": "code",
      "execution_count": 9,
      "metadata": {
        "colab": {
          "base_uri": "https://localhost:8080/"
        },
        "id": "sbGdmSCY8Sxt",
        "outputId": "bc874c17-c907-4636-80dd-087a32aa498a"
      },
      "outputs": [
        {
          "name": "stdout",
          "output_type": "stream",
          "text": [
            "Model accuracy: 0.73\n"
          ]
        }
      ],
      "source": [
        "from sklearn.metrics import accuracy_score\n",
        "\n",
        "# Evaluate the model's performance\n",
        "modlee_model.eval() # Set the model to evaluation mode\n",
        "y_pred = []\n",
        "y_true = []\n",
        "with torch.no_grad(): # Disable gradient computation\n",
        "    for batch in val_dataloader:\n",
        "        X_batch, y_batch = batch\n",
        "        outputs = modlee_model(X_batch) # Get model predictions\n",
        "        predictions = torch.argmax(outputs, dim=1)  # Round predictions to get binary output\n",
        "        y_pred.extend(predictions.numpy()) # Store predictions\n",
        "        y_true.extend(y_batch.numpy()) # Store true labels\n",
        "\n",
        "# Calculate accuracy\n",
        "accuracy = accuracy_score(y_true, y_pred)\n",
        "print(f\"Model accuracy: {accuracy:.2f}\")"
      ]
    },
    {
      "cell_type": "markdown",
      "metadata": {
        "id": "Bd-_5ffZJCtE"
      },
      "source": [
        "# **Document and Inspect Artifacts**\n",
        "\n",
        "After training, we inspect the artifacts saved by Modlee, including the model graph and various statistics."
      ]
    },
    {
      "cell_type": "code",
      "execution_count": 10,
      "metadata": {
        "id": "R9ak0Jq1JCIF"
      },
      "outputs": [
        {
          "name": "stdout",
          "output_type": "stream",
          "text": [
            "Run path: /Users/mansiagrawal/Documents/modlee_pypi/src/modlee/notebooks_tests/mlruns/0/39c72338970842388573289203ee6568\n",
            "Saved artifacts: ['model_metafeatures', 'model_size', 'model_summary.txt', 'checkpoints', 'model.py', 'cached_vars', 'stats_rep', 'model', 'model_graph.py', 'model_graph.txt', 'data_metafeatures']\n"
          ]
        }
      ],
      "source": [
        "import sys\n",
        "\n",
        "# Get the path to the last run's saved data\n",
        "last_run_path = modlee.last_run_path()\n",
        "print(f\"Run path: {last_run_path}\")\n",
        "\n",
        "# Get the path to the saved artifacts\n",
        "artifacts_path = os.path.join(last_run_path, 'artifacts')\n",
        "artifacts = os.listdir(artifacts_path)\n",
        "print(f\"Saved artifacts: {artifacts}\")\n",
        "\n",
        "# Set the artifacts path as an environment variable\n",
        "os.environ['ARTIFACTS_PATH'] = artifacts_path\n",
        "\n",
        "# Add the artifacts directory to the system path\n",
        "sys.path.insert(0, artifacts_path)"
      ]
    },
    {
      "cell_type": "code",
      "execution_count": 11,
      "metadata": {
        "id": "CWZuJ85LJJWm"
      },
      "outputs": [
        {
          "name": "stdout",
          "output_type": "stream",
          "text": [
            "Model graph:\n",
            "\n",
            "import torch, onnx2torch\n",
            "from torch import tensor\n",
            "class Model(torch.nn.Module):\n",
            "    \n",
            "    def __init__(self):\n",
            "        super().__init__()\n",
            "        setattr(self,'Gemm', torch.nn.modules.linear.Linear(**{'in_features':8,'out_features':128}))\n",
            "        setattr(self,'Selu', torch.nn.modules.activation.SELU(**{'inplace':False}))\n",
            "        setattr(self,'Gemm_1', torch.nn.modules.linear.Linear(**{'in_features':128,'out_features':64}))\n",
            "        setattr(self,'Selu_1', torch.nn.modules.activation.SELU(**{'inplace':False}))\n",
            "        setattr(self,'Gemm_2', torch.nn.modules.linear.Linear(**{'in_features':64,'out_features':32}))\n",
            "        setattr(self,'Selu_2', torch.nn.modules.activation.SELU(**{'inplace':False}))\n",
            "        setattr(self,'Gemm_3', torch.nn.modules.linear.Linear(**{'in_features':32,'out_features':2}))\n",
            "    def forward(self, input_1):\n",
            "        ...\n",
            "        ...\n"
          ]
        }
      ],
      "source": [
        "# Print out the first few lines of the model\n",
        "print(\"Model graph:\")\n",
        "!sed -n -e 1,15p $ARTIFACTS_PATH/model_graph.py\n",
        "!echo \"        ...\"\n",
        "!sed -n -e 58,68p $ARTIFACTS_PATH/model_graph.py\n",
        "!echo \"        ...\""
      ]
    },
    {
      "cell_type": "code",
      "execution_count": 12,
      "metadata": {
        "id": "Tl8e6LSuJK9U"
      },
      "outputs": [
        {
          "name": "stdout",
          "output_type": "stream",
          "text": [
            "Data metafeatures:\n",
            "{\n",
            "  \"batch_element_0_mean\": [\n",
            "    -0.027250396087765694,\n",
            "    0.0191038828343153,\n",
            "    -0.019142156466841698,\n",
            "    -0.004866223782300949,\n",
            "    0.03995737433433533,\n",
            "    0.025532608851790428,\n",
            "    -0.004861955530941486,\n",
            "    -0.014338756911456585\n",
            "  ],\n",
            "  \"batch_element_0_median\": [\n",
            "    -0.2509521245956421,\n",
            "    -0.12188771367073059,\n",
            "    0.149640753865242,\n",
            "    0.15453319251537323,\n",
            "    -0.38030633330345154,\n",
            "    0.0009419787675142288,\n",
            "    -0.32579922676086426,\n",
            "    -0.3608474135398865\n"
          ]
        }
      ],
      "source": [
        "# Print the first lines of the data metafeatures\n",
        "print(\"Data metafeatures:\")\n",
        "!head -20 $ARTIFACTS_PATH/stats_rep"
      ]
    },
    {
      "cell_type": "markdown",
      "metadata": {
        "id": "IFh_aiqmuUKp"
      },
      "source": [
        "# **Great Job!**\n",
        "\n",
        "We've successfully completed a machine learning project using the Modlee package for tabular data classification. Here's what we covered:\n",
        "\n",
        "- Loaded and prepared the diabetes dataset: We imported, scaled, and split the data into training and validation sets.\n",
        "- Built and trained a model: We used the `TabularClassifier` and integrated it with Modlee's framework for efficient training.\n",
        "- Evaluated the model: We assessed the model's performance using accuracy on the validation set.\n",
        "\n",
        "This project has given you a solid foundation in using Modlee for tabular data. You now know how to prepare data, train models, and evaluate their performance. Keep exploring and building on this knowledge!"
      ]
    }
  ],
  "metadata": {
    "accelerator": "GPU",
    "colab": {
      "gpuType": "T4",
      "provenance": []
    },
    "kernelspec": {
      "display_name": "Python 3",
      "name": "python3"
    },
    "language_info": {
      "codemirror_mode": {
        "name": "ipython",
        "version": 3
      },
      "file_extension": ".py",
      "mimetype": "text/x-python",
      "name": "python",
      "nbconvert_exporter": "python",
      "pygments_lexer": "ipython3",
      "version": "3.12.5"
    },
    "widgets": {
      "application/vnd.jupyter.widget-state+json": {
        "059224741e0f4d359d432229757e4d64": {
          "model_module": "@jupyter-widgets/controls",
          "model_module_version": "1.5.0",
          "model_name": "DescriptionStyleModel",
          "state": {
            "_model_module": "@jupyter-widgets/controls",
            "_model_module_version": "1.5.0",
            "_model_name": "DescriptionStyleModel",
            "_view_count": null,
            "_view_module": "@jupyter-widgets/base",
            "_view_module_version": "1.2.0",
            "_view_name": "StyleView",
            "description_width": ""
          }
        },
        "115f4fe00fa045eb8d60d26fac6004bf": {
          "model_module": "@jupyter-widgets/controls",
          "model_module_version": "1.5.0",
          "model_name": "DescriptionStyleModel",
          "state": {
            "_model_module": "@jupyter-widgets/controls",
            "_model_module_version": "1.5.0",
            "_model_name": "DescriptionStyleModel",
            "_view_count": null,
            "_view_module": "@jupyter-widgets/base",
            "_view_module_version": "1.2.0",
            "_view_name": "StyleView",
            "description_width": ""
          }
        },
        "12f05e8f5b294a1ea7dd3a295957ae74": {
          "model_module": "@jupyter-widgets/controls",
          "model_module_version": "1.5.0",
          "model_name": "ProgressStyleModel",
          "state": {
            "_model_module": "@jupyter-widgets/controls",
            "_model_module_version": "1.5.0",
            "_model_name": "ProgressStyleModel",
            "_view_count": null,
            "_view_module": "@jupyter-widgets/base",
            "_view_module_version": "1.2.0",
            "_view_name": "StyleView",
            "bar_color": null,
            "description_width": ""
          }
        },
        "1793efc0dfd2428eaef31f5a41fad810": {
          "model_module": "@jupyter-widgets/base",
          "model_module_version": "1.2.0",
          "model_name": "LayoutModel",
          "state": {
            "_model_module": "@jupyter-widgets/base",
            "_model_module_version": "1.2.0",
            "_model_name": "LayoutModel",
            "_view_count": null,
            "_view_module": "@jupyter-widgets/base",
            "_view_module_version": "1.2.0",
            "_view_name": "LayoutView",
            "align_content": null,
            "align_items": null,
            "align_self": null,
            "border": null,
            "bottom": null,
            "display": null,
            "flex": "2",
            "flex_flow": null,
            "grid_area": null,
            "grid_auto_columns": null,
            "grid_auto_flow": null,
            "grid_auto_rows": null,
            "grid_column": null,
            "grid_gap": null,
            "grid_row": null,
            "grid_template_areas": null,
            "grid_template_columns": null,
            "grid_template_rows": null,
            "height": null,
            "justify_content": null,
            "justify_items": null,
            "left": null,
            "margin": null,
            "max_height": null,
            "max_width": null,
            "min_height": null,
            "min_width": null,
            "object_fit": null,
            "object_position": null,
            "order": null,
            "overflow": null,
            "overflow_x": null,
            "overflow_y": null,
            "padding": null,
            "right": null,
            "top": null,
            "visibility": null,
            "width": null
          }
        },
        "1f3a773ca834422397657d2320b63a24": {
          "model_module": "@jupyter-widgets/controls",
          "model_module_version": "1.5.0",
          "model_name": "HTMLModel",
          "state": {
            "_dom_classes": [],
            "_model_module": "@jupyter-widgets/controls",
            "_model_module_version": "1.5.0",
            "_model_name": "HTMLModel",
            "_view_count": null,
            "_view_module": "@jupyter-widgets/controls",
            "_view_module_version": "1.5.0",
            "_view_name": "HTMLView",
            "description": "",
            "description_tooltip": null,
            "layout": "IPY_MODEL_e95a1b1b108f4e5ab6762c19a3f678fc",
            "placeholder": "​",
            "style": "IPY_MODEL_115f4fe00fa045eb8d60d26fac6004bf",
            "value": " 2/2 [00:00&lt;00:00,  7.96it/s]"
          }
        },
        "1f5d92c5b5c1448ab56c430a48db53b1": {
          "model_module": "@jupyter-widgets/base",
          "model_module_version": "1.2.0",
          "model_name": "LayoutModel",
          "state": {
            "_model_module": "@jupyter-widgets/base",
            "_model_module_version": "1.2.0",
            "_model_name": "LayoutModel",
            "_view_count": null,
            "_view_module": "@jupyter-widgets/base",
            "_view_module_version": "1.2.0",
            "_view_name": "LayoutView",
            "align_content": null,
            "align_items": null,
            "align_self": null,
            "border": null,
            "bottom": null,
            "display": "inline-flex",
            "flex": null,
            "flex_flow": "row wrap",
            "grid_area": null,
            "grid_auto_columns": null,
            "grid_auto_flow": null,
            "grid_auto_rows": null,
            "grid_column": null,
            "grid_gap": null,
            "grid_row": null,
            "grid_template_areas": null,
            "grid_template_columns": null,
            "grid_template_rows": null,
            "height": null,
            "justify_content": null,
            "justify_items": null,
            "left": null,
            "margin": null,
            "max_height": null,
            "max_width": null,
            "min_height": null,
            "min_width": null,
            "object_fit": null,
            "object_position": null,
            "order": null,
            "overflow": null,
            "overflow_x": null,
            "overflow_y": null,
            "padding": null,
            "right": null,
            "top": null,
            "visibility": "hidden",
            "width": "100%"
          }
        },
        "229c87ab844e43c8ae2f22d1b2968361": {
          "model_module": "@jupyter-widgets/base",
          "model_module_version": "1.2.0",
          "model_name": "LayoutModel",
          "state": {
            "_model_module": "@jupyter-widgets/base",
            "_model_module_version": "1.2.0",
            "_model_name": "LayoutModel",
            "_view_count": null,
            "_view_module": "@jupyter-widgets/base",
            "_view_module_version": "1.2.0",
            "_view_name": "LayoutView",
            "align_content": null,
            "align_items": null,
            "align_self": null,
            "border": null,
            "bottom": null,
            "display": null,
            "flex": "2",
            "flex_flow": null,
            "grid_area": null,
            "grid_auto_columns": null,
            "grid_auto_flow": null,
            "grid_auto_rows": null,
            "grid_column": null,
            "grid_gap": null,
            "grid_row": null,
            "grid_template_areas": null,
            "grid_template_columns": null,
            "grid_template_rows": null,
            "height": null,
            "justify_content": null,
            "justify_items": null,
            "left": null,
            "margin": null,
            "max_height": null,
            "max_width": null,
            "min_height": null,
            "min_width": null,
            "object_fit": null,
            "object_position": null,
            "order": null,
            "overflow": null,
            "overflow_x": null,
            "overflow_y": null,
            "padding": null,
            "right": null,
            "top": null,
            "visibility": null,
            "width": null
          }
        },
        "250136542357472a8b4a7c14af2f25dd": {
          "model_module": "@jupyter-widgets/controls",
          "model_module_version": "1.5.0",
          "model_name": "ProgressStyleModel",
          "state": {
            "_model_module": "@jupyter-widgets/controls",
            "_model_module_version": "1.5.0",
            "_model_name": "ProgressStyleModel",
            "_view_count": null,
            "_view_module": "@jupyter-widgets/base",
            "_view_module_version": "1.2.0",
            "_view_name": "StyleView",
            "bar_color": null,
            "description_width": ""
          }
        },
        "53e862294c324729987fb8229db0e70a": {
          "model_module": "@jupyter-widgets/controls",
          "model_module_version": "1.5.0",
          "model_name": "FloatProgressModel",
          "state": {
            "_dom_classes": [],
            "_model_module": "@jupyter-widgets/controls",
            "_model_module_version": "1.5.0",
            "_model_name": "FloatProgressModel",
            "_view_count": null,
            "_view_module": "@jupyter-widgets/controls",
            "_view_module_version": "1.5.0",
            "_view_name": "ProgressView",
            "bar_style": "info",
            "description": "",
            "description_tooltip": null,
            "layout": "IPY_MODEL_229c87ab844e43c8ae2f22d1b2968361",
            "max": 1,
            "min": 0,
            "orientation": "horizontal",
            "style": "IPY_MODEL_250136542357472a8b4a7c14af2f25dd",
            "value": 0
          }
        },
        "5ff42d9d01014d29b04be82228bd361c": {
          "model_module": "@jupyter-widgets/base",
          "model_module_version": "1.2.0",
          "model_name": "LayoutModel",
          "state": {
            "_model_module": "@jupyter-widgets/base",
            "_model_module_version": "1.2.0",
            "_model_name": "LayoutModel",
            "_view_count": null,
            "_view_module": "@jupyter-widgets/base",
            "_view_module_version": "1.2.0",
            "_view_name": "LayoutView",
            "align_content": null,
            "align_items": null,
            "align_self": null,
            "border": null,
            "bottom": null,
            "display": null,
            "flex": null,
            "flex_flow": null,
            "grid_area": null,
            "grid_auto_columns": null,
            "grid_auto_flow": null,
            "grid_auto_rows": null,
            "grid_column": null,
            "grid_gap": null,
            "grid_row": null,
            "grid_template_areas": null,
            "grid_template_columns": null,
            "grid_template_rows": null,
            "height": null,
            "justify_content": null,
            "justify_items": null,
            "left": null,
            "margin": null,
            "max_height": null,
            "max_width": null,
            "min_height": null,
            "min_width": null,
            "object_fit": null,
            "object_position": null,
            "order": null,
            "overflow": null,
            "overflow_x": null,
            "overflow_y": null,
            "padding": null,
            "right": null,
            "top": null,
            "visibility": null,
            "width": null
          }
        },
        "6aa9d79a5b964aaaacbff16ab7a01d36": {
          "model_module": "@jupyter-widgets/base",
          "model_module_version": "1.2.0",
          "model_name": "LayoutModel",
          "state": {
            "_model_module": "@jupyter-widgets/base",
            "_model_module_version": "1.2.0",
            "_model_name": "LayoutModel",
            "_view_count": null,
            "_view_module": "@jupyter-widgets/base",
            "_view_module_version": "1.2.0",
            "_view_name": "LayoutView",
            "align_content": null,
            "align_items": null,
            "align_self": null,
            "border": null,
            "bottom": null,
            "display": null,
            "flex": null,
            "flex_flow": null,
            "grid_area": null,
            "grid_auto_columns": null,
            "grid_auto_flow": null,
            "grid_auto_rows": null,
            "grid_column": null,
            "grid_gap": null,
            "grid_row": null,
            "grid_template_areas": null,
            "grid_template_columns": null,
            "grid_template_rows": null,
            "height": null,
            "justify_content": null,
            "justify_items": null,
            "left": null,
            "margin": null,
            "max_height": null,
            "max_width": null,
            "min_height": null,
            "min_width": null,
            "object_fit": null,
            "object_position": null,
            "order": null,
            "overflow": null,
            "overflow_x": null,
            "overflow_y": null,
            "padding": null,
            "right": null,
            "top": null,
            "visibility": null,
            "width": null
          }
        },
        "92a8956f2710417b80aa8800b555f851": {
          "model_module": "@jupyter-widgets/controls",
          "model_module_version": "1.5.0",
          "model_name": "HTMLModel",
          "state": {
            "_dom_classes": [],
            "_model_module": "@jupyter-widgets/controls",
            "_model_module_version": "1.5.0",
            "_model_name": "HTMLModel",
            "_view_count": null,
            "_view_module": "@jupyter-widgets/controls",
            "_view_module_version": "1.5.0",
            "_view_name": "HTMLView",
            "description": "",
            "description_tooltip": null,
            "layout": "IPY_MODEL_e8728fc0389e4e01b959289ef2aa4086",
            "placeholder": "​",
            "style": "IPY_MODEL_d10fa274261241f6888604ea95e531e4",
            "value": " 0/? [00:00&lt;?, ?it/s]"
          }
        },
        "977c4e08250c4409be6cc7d559e93846": {
          "model_module": "@jupyter-widgets/controls",
          "model_module_version": "1.5.0",
          "model_name": "HBoxModel",
          "state": {
            "_dom_classes": [],
            "_model_module": "@jupyter-widgets/controls",
            "_model_module_version": "1.5.0",
            "_model_name": "HBoxModel",
            "_view_count": null,
            "_view_module": "@jupyter-widgets/controls",
            "_view_module_version": "1.5.0",
            "_view_name": "HBoxView",
            "box_style": "",
            "children": [
              "IPY_MODEL_ad6a618bf51d41cd8dd6f21f2037fbf2",
              "IPY_MODEL_f19fa33355ea40849d9314a6f59ae386",
              "IPY_MODEL_1f3a773ca834422397657d2320b63a24"
            ],
            "layout": "IPY_MODEL_1f5d92c5b5c1448ab56c430a48db53b1"
          }
        },
        "9e885a8a68ee426da874511325298208": {
          "model_module": "@jupyter-widgets/controls",
          "model_module_version": "1.5.0",
          "model_name": "DescriptionStyleModel",
          "state": {
            "_model_module": "@jupyter-widgets/controls",
            "_model_module_version": "1.5.0",
            "_model_name": "DescriptionStyleModel",
            "_view_count": null,
            "_view_module": "@jupyter-widgets/base",
            "_view_module_version": "1.2.0",
            "_view_name": "StyleView",
            "description_width": ""
          }
        },
        "a1b000e882db46d58e69c1b43bc2bf98": {
          "model_module": "@jupyter-widgets/controls",
          "model_module_version": "1.5.0",
          "model_name": "HTMLModel",
          "state": {
            "_dom_classes": [],
            "_model_module": "@jupyter-widgets/controls",
            "_model_module_version": "1.5.0",
            "_model_name": "HTMLModel",
            "_view_count": null,
            "_view_module": "@jupyter-widgets/controls",
            "_view_module_version": "1.5.0",
            "_view_name": "HTMLView",
            "description": "",
            "description_tooltip": null,
            "layout": "IPY_MODEL_5ff42d9d01014d29b04be82228bd361c",
            "placeholder": "​",
            "style": "IPY_MODEL_059224741e0f4d359d432229757e4d64",
            "value": "Training: "
          }
        },
        "ad6a618bf51d41cd8dd6f21f2037fbf2": {
          "model_module": "@jupyter-widgets/controls",
          "model_module_version": "1.5.0",
          "model_name": "HTMLModel",
          "state": {
            "_dom_classes": [],
            "_model_module": "@jupyter-widgets/controls",
            "_model_module_version": "1.5.0",
            "_model_name": "HTMLModel",
            "_view_count": null,
            "_view_module": "@jupyter-widgets/controls",
            "_view_module_version": "1.5.0",
            "_view_name": "HTMLView",
            "description": "",
            "description_tooltip": null,
            "layout": "IPY_MODEL_6aa9d79a5b964aaaacbff16ab7a01d36",
            "placeholder": "​",
            "style": "IPY_MODEL_9e885a8a68ee426da874511325298208",
            "value": "Sanity Checking DataLoader 0: 100%"
          }
        },
        "c9865cb952a344eeba86e355689fa498": {
          "model_module": "@jupyter-widgets/controls",
          "model_module_version": "1.5.0",
          "model_name": "HBoxModel",
          "state": {
            "_dom_classes": [],
            "_model_module": "@jupyter-widgets/controls",
            "_model_module_version": "1.5.0",
            "_model_name": "HBoxModel",
            "_view_count": null,
            "_view_module": "@jupyter-widgets/controls",
            "_view_module_version": "1.5.0",
            "_view_name": "HBoxView",
            "box_style": "",
            "children": [
              "IPY_MODEL_a1b000e882db46d58e69c1b43bc2bf98",
              "IPY_MODEL_53e862294c324729987fb8229db0e70a",
              "IPY_MODEL_92a8956f2710417b80aa8800b555f851"
            ],
            "layout": "IPY_MODEL_d01307530003498991519f673178139a"
          }
        },
        "d01307530003498991519f673178139a": {
          "model_module": "@jupyter-widgets/base",
          "model_module_version": "1.2.0",
          "model_name": "LayoutModel",
          "state": {
            "_model_module": "@jupyter-widgets/base",
            "_model_module_version": "1.2.0",
            "_model_name": "LayoutModel",
            "_view_count": null,
            "_view_module": "@jupyter-widgets/base",
            "_view_module_version": "1.2.0",
            "_view_name": "LayoutView",
            "align_content": null,
            "align_items": null,
            "align_self": null,
            "border": null,
            "bottom": null,
            "display": "inline-flex",
            "flex": null,
            "flex_flow": "row wrap",
            "grid_area": null,
            "grid_auto_columns": null,
            "grid_auto_flow": null,
            "grid_auto_rows": null,
            "grid_column": null,
            "grid_gap": null,
            "grid_row": null,
            "grid_template_areas": null,
            "grid_template_columns": null,
            "grid_template_rows": null,
            "height": null,
            "justify_content": null,
            "justify_items": null,
            "left": null,
            "margin": null,
            "max_height": null,
            "max_width": null,
            "min_height": null,
            "min_width": null,
            "object_fit": null,
            "object_position": null,
            "order": null,
            "overflow": null,
            "overflow_x": null,
            "overflow_y": null,
            "padding": null,
            "right": null,
            "top": null,
            "visibility": null,
            "width": "100%"
          }
        },
        "d10fa274261241f6888604ea95e531e4": {
          "model_module": "@jupyter-widgets/controls",
          "model_module_version": "1.5.0",
          "model_name": "DescriptionStyleModel",
          "state": {
            "_model_module": "@jupyter-widgets/controls",
            "_model_module_version": "1.5.0",
            "_model_name": "DescriptionStyleModel",
            "_view_count": null,
            "_view_module": "@jupyter-widgets/base",
            "_view_module_version": "1.2.0",
            "_view_name": "StyleView",
            "description_width": ""
          }
        },
        "e8728fc0389e4e01b959289ef2aa4086": {
          "model_module": "@jupyter-widgets/base",
          "model_module_version": "1.2.0",
          "model_name": "LayoutModel",
          "state": {
            "_model_module": "@jupyter-widgets/base",
            "_model_module_version": "1.2.0",
            "_model_name": "LayoutModel",
            "_view_count": null,
            "_view_module": "@jupyter-widgets/base",
            "_view_module_version": "1.2.0",
            "_view_name": "LayoutView",
            "align_content": null,
            "align_items": null,
            "align_self": null,
            "border": null,
            "bottom": null,
            "display": null,
            "flex": null,
            "flex_flow": null,
            "grid_area": null,
            "grid_auto_columns": null,
            "grid_auto_flow": null,
            "grid_auto_rows": null,
            "grid_column": null,
            "grid_gap": null,
            "grid_row": null,
            "grid_template_areas": null,
            "grid_template_columns": null,
            "grid_template_rows": null,
            "height": null,
            "justify_content": null,
            "justify_items": null,
            "left": null,
            "margin": null,
            "max_height": null,
            "max_width": null,
            "min_height": null,
            "min_width": null,
            "object_fit": null,
            "object_position": null,
            "order": null,
            "overflow": null,
            "overflow_x": null,
            "overflow_y": null,
            "padding": null,
            "right": null,
            "top": null,
            "visibility": null,
            "width": null
          }
        },
        "e95a1b1b108f4e5ab6762c19a3f678fc": {
          "model_module": "@jupyter-widgets/base",
          "model_module_version": "1.2.0",
          "model_name": "LayoutModel",
          "state": {
            "_model_module": "@jupyter-widgets/base",
            "_model_module_version": "1.2.0",
            "_model_name": "LayoutModel",
            "_view_count": null,
            "_view_module": "@jupyter-widgets/base",
            "_view_module_version": "1.2.0",
            "_view_name": "LayoutView",
            "align_content": null,
            "align_items": null,
            "align_self": null,
            "border": null,
            "bottom": null,
            "display": null,
            "flex": null,
            "flex_flow": null,
            "grid_area": null,
            "grid_auto_columns": null,
            "grid_auto_flow": null,
            "grid_auto_rows": null,
            "grid_column": null,
            "grid_gap": null,
            "grid_row": null,
            "grid_template_areas": null,
            "grid_template_columns": null,
            "grid_template_rows": null,
            "height": null,
            "justify_content": null,
            "justify_items": null,
            "left": null,
            "margin": null,
            "max_height": null,
            "max_width": null,
            "min_height": null,
            "min_width": null,
            "object_fit": null,
            "object_position": null,
            "order": null,
            "overflow": null,
            "overflow_x": null,
            "overflow_y": null,
            "padding": null,
            "right": null,
            "top": null,
            "visibility": null,
            "width": null
          }
        },
        "f19fa33355ea40849d9314a6f59ae386": {
          "model_module": "@jupyter-widgets/controls",
          "model_module_version": "1.5.0",
          "model_name": "FloatProgressModel",
          "state": {
            "_dom_classes": [],
            "_model_module": "@jupyter-widgets/controls",
            "_model_module_version": "1.5.0",
            "_model_name": "FloatProgressModel",
            "_view_count": null,
            "_view_module": "@jupyter-widgets/controls",
            "_view_module_version": "1.5.0",
            "_view_name": "ProgressView",
            "bar_style": "",
            "description": "",
            "description_tooltip": null,
            "layout": "IPY_MODEL_1793efc0dfd2428eaef31f5a41fad810",
            "max": 2,
            "min": 0,
            "orientation": "horizontal",
            "style": "IPY_MODEL_12f05e8f5b294a1ea7dd3a295957ae74",
            "value": 2
          }
        }
      }
    }
  },
  "nbformat": 4,
  "nbformat_minor": 0
}
