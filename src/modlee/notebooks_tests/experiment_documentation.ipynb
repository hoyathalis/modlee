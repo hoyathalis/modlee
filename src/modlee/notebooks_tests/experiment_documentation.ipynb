{
  "cells": [
    {
      "cell_type": "markdown",
      "metadata": {
        "id": "ObaUBEBskx7D"
      },
      "source": [
        "# **Modlee Experiment Documentation Example Walkthrough**\n",
        "\n",
        "In this walkthrough, we will demonstrate how to train a machine learning model to classify images of clothing items from the `Fashion MNIST` dataset. We'll also document the experiment using the `modlee package`, which helps keep track of our model's training and validation processes.\n",
        "\n",
        "We'll go through the process step-by-step, including importing necessary libraries, setting up the dataset, building a custom convolutional neural network model, using Modlee for automatic experiment documentation, and training the model while saving the training metadata and artifacts.\n",
        "\n",
        "## Tips\n",
        "\n",
        "For best performance, ensure that the runtime is set to use a GPU (`Runtime > Change runtime type > T4 GPU`).\n",
        "\n",
        "## Help & Questions\n",
        "\n",
        "If you have any questions, please reachout on our [Discord](https://discord.gg/dncQwFdN9m).\n",
        "\n",
        "You can also use our [documenation](https://docs.modlee.ai/README.html) as a reference for using our package."
      ]
    },
    {
      "cell_type": "markdown",
      "metadata": {
        "id": "P8IBnDEKitvl"
      },
      "source": [
        "# **Environment Setup**\n",
        "## Step 1:\n",
        "\n",
        "First, we need to make sure that we have the necessary packages installed. We will need `modlee` and its related packages.\n"
      ]
    },
    {
      "cell_type": "code",
      "execution_count": null,
      "metadata": {
        "collapsed": true,
        "id": "bG9bdPHtjESR"
      },
      "outputs": [],
      "source": [
        "# Install required packages\n",
        "!pip install modlee torch torchvision pytorch-lightning\n",
        "\n",
        "# This should take a few minutes, thanks for your patience!"
      ]
    },
    {
      "cell_type": "markdown",
      "metadata": {
        "id": "qha6w_aajFYd"
      },
      "source": [
        "## Step 2:\n",
        "\n",
        "We will import the necessary libraries, including `modlee` for automating experiment documentation and `torch` for handling neural networks.\n",
        "\n",
        "We will also set our Modlee API key and initialize the Modlee package.\n",
        "Make sure that you have a Modlee account and an API key [from the dashboard](https://www.dashboard.modlee.ai/).\n",
        "Replace `replace-with-your-api-key` with your API key."
      ]
    },
    {
      "cell_type": "code",
      "execution_count": 1,
      "metadata": {
        "id": "ee1VS-yCcj81"
      },
      "outputs": [
        {
          "name": "stderr",
          "output_type": "stream",
          "text": [
            "/Users/mansiagrawal/Documents/modlee_pypi/venv/lib/python3.12/site-packages/tqdm/auto.py:21: TqdmWarning: IProgress not found. Please update jupyter and ipywidgets. See https://ipywidgets.readthedocs.io/en/stable/user_install.html\n",
            "  from .autonotebook import tqdm as notebook_tqdm\n"
          ]
        }
      ],
      "source": [
        "# Boilerplate imports\n",
        "import os, sys\n",
        "import ssl\n",
        "ssl._create_default_https_context = ssl._create_unverified_context # Disable SSL verification\n",
        "import lightning.pytorch as pl\n",
        "import torch\n",
        "import torch.nn as nn\n",
        "import torch.nn.functional as F\n",
        "import torchvision"
      ]
    },
    {
      "cell_type": "code",
      "execution_count": 2,
      "metadata": {
        "id": "NuJ4wSp6cshn"
      },
      "outputs": [],
      "source": [
        "# Set the API key to an environment variable\n",
        "os.environ['MODLEE_API_KEY'] = \"OktSzjtS27JkuFiqpuzzyZCORw88Cz0P\"\n",
        "\n",
        "# Modlee-specific imports\n",
        "import modlee\n",
        "\n",
        "# Initialize Modlee with the API key\n",
        "modlee.init(api_key=os.environ['MODLEE_API_KEY'])"
      ]
    },
    {
      "cell_type": "markdown",
      "metadata": {
        "id": "Dbmi34trjhm8"
      },
      "source": [
        "# **Load the Data**\n",
        "\n",
        "We will load the Fashion MNIST dataset, converting the grayscale images to RGB (3 channels) to be compatible with our model, and create DataLoaders for training and validation. This helps get the data ready for training and validation.\n",
        "\n"
      ]
    },
    {
      "cell_type": "code",
      "execution_count": 3,
      "metadata": {
        "colab": {
          "base_uri": "https://localhost:8080/"
        },
        "collapsed": true,
        "id": "dYjc0XD-cvYR",
        "outputId": "8566dec8-645f-424c-9f94-650123f352f8"
      },
      "outputs": [
        {
          "name": "stdout",
          "output_type": "stream",
          "text": [
            "Downloading http://fashion-mnist.s3-website.eu-central-1.amazonaws.com/train-images-idx3-ubyte.gz\n",
            "Downloading http://fashion-mnist.s3-website.eu-central-1.amazonaws.com/train-images-idx3-ubyte.gz to .data/FashionMNIST/raw/train-images-idx3-ubyte.gz\n"
          ]
        },
        {
          "name": "stderr",
          "output_type": "stream",
          "text": [
            "100%|██████████| 26421880/26421880 [00:16<00:00, 1634899.56it/s]\n"
          ]
        },
        {
          "name": "stdout",
          "output_type": "stream",
          "text": [
            "Extracting .data/FashionMNIST/raw/train-images-idx3-ubyte.gz to .data/FashionMNIST/raw\n",
            "\n",
            "Downloading http://fashion-mnist.s3-website.eu-central-1.amazonaws.com/train-labels-idx1-ubyte.gz\n",
            "Downloading http://fashion-mnist.s3-website.eu-central-1.amazonaws.com/train-labels-idx1-ubyte.gz to .data/FashionMNIST/raw/train-labels-idx1-ubyte.gz\n"
          ]
        },
        {
          "name": "stderr",
          "output_type": "stream",
          "text": [
            "100%|██████████| 29515/29515 [00:00<00:00, 188752.28it/s]\n"
          ]
        },
        {
          "name": "stdout",
          "output_type": "stream",
          "text": [
            "Extracting .data/FashionMNIST/raw/train-labels-idx1-ubyte.gz to .data/FashionMNIST/raw\n",
            "\n",
            "Downloading http://fashion-mnist.s3-website.eu-central-1.amazonaws.com/t10k-images-idx3-ubyte.gz\n",
            "Downloading http://fashion-mnist.s3-website.eu-central-1.amazonaws.com/t10k-images-idx3-ubyte.gz to .data/FashionMNIST/raw/t10k-images-idx3-ubyte.gz\n"
          ]
        },
        {
          "name": "stderr",
          "output_type": "stream",
          "text": [
            "100%|██████████| 4422102/4422102 [00:07<00:00, 601054.88it/s] \n"
          ]
        },
        {
          "name": "stdout",
          "output_type": "stream",
          "text": [
            "Extracting .data/FashionMNIST/raw/t10k-images-idx3-ubyte.gz to .data/FashionMNIST/raw\n",
            "\n",
            "Downloading http://fashion-mnist.s3-website.eu-central-1.amazonaws.com/t10k-labels-idx1-ubyte.gz\n",
            "Downloading http://fashion-mnist.s3-website.eu-central-1.amazonaws.com/t10k-labels-idx1-ubyte.gz to .data/FashionMNIST/raw/t10k-labels-idx1-ubyte.gz\n"
          ]
        },
        {
          "name": "stderr",
          "output_type": "stream",
          "text": [
            "100%|██████████| 5148/5148 [00:00<00:00, 5237030.56it/s]"
          ]
        },
        {
          "name": "stdout",
          "output_type": "stream",
          "text": [
            "Extracting .data/FashionMNIST/raw/t10k-labels-idx1-ubyte.gz to .data/FashionMNIST/raw\n",
            "\n"
          ]
        },
        {
          "name": "stderr",
          "output_type": "stream",
          "text": [
            "\n"
          ]
        }
      ],
      "source": [
        "# Get Fashion MNIST, and convert from grayscale to RGB for compatibility with the model\n",
        "train_dataloader, val_dataloader = modlee.utils.get_fashion_mnist(num_output_channels=3)\n",
        "\n",
        "# Get the number of classes in the dataset (10 classes for Fashion MNIST)\n",
        "num_classes = len(train_dataloader.dataset.classes)"
      ]
    },
    {
      "cell_type": "markdown",
      "metadata": {
        "id": "Ng0ArT6ekC0a"
      },
      "source": [
        "# **Build the Model**\n",
        "\n",
        "We create a CNN model using a pre-trained ResNet-18 architecture from torchvision and wrap it in a custom class `ModleeClassifier` which extends `modlee.model.ModleeModel`. This class defines how the model processes data, handles training and validation steps, and sets up the optimizer.\n",
        "\n",
        "\n"
      ]
    },
    {
      "cell_type": "code",
      "execution_count": 5,
      "metadata": {
        "id": "X8C3cJttcxio"
      },
      "outputs": [],
      "source": [
        "# Use a pretrained torchvision ResNet\n",
        "classifier_model = torchvision.models.resnet18(num_classes=10)\n",
        "\n",
        "# Subclass the ModleeModel class to enable automatic documentation\n",
        "class ModleeClassifier(modlee.model.ImageClassificationModleeModel):\n",
        "    def __init__(self, *args, **kwargs):\n",
        "        super().__init__(*args, **kwargs)\n",
        "        self.model = classifier_model\n",
        "        # Define the loss function as cross-entropy loss\n",
        "        self.loss_fn = F.cross_entropy\n",
        "\n",
        "    def forward(self, x):\n",
        "        return self.model(x)\n",
        "\n",
        "    # Define the training step\n",
        "    def training_step(self, batch, batch_idx):\n",
        "        x, y_target = batch\n",
        "        y_pred = self(x)\n",
        "        loss = self.loss_fn(y_pred, y_target)\n",
        "        return {\"loss\": loss}\n",
        "\n",
        "    # Define the validation step\n",
        "    def validation_step(self, val_batch, batch_idx):\n",
        "        x, y_target = val_batch\n",
        "        y_pred = self(x)\n",
        "        val_loss = self.loss_fn(y_pred, y_target)\n",
        "        return {'val_loss': val_loss}\n",
        "\n",
        "    # Set up the optimizer for training\n",
        "    def configure_optimizers(self):\n",
        "        optimizer = torch.optim.SGD(self.parameters(), lr=0.001, momentum=0.9)\n",
        "        return optimizer\n",
        "\n",
        "# Create an instance of the model wrapped in Modlee's documentation class\n",
        "modlee_model = ModleeClassifier()"
      ]
    },
    {
      "cell_type": "markdown",
      "metadata": {
        "id": "F8cdxLYHkSFP"
      },
      "source": [
        "# **Training the Model**\n",
        "\n",
        "The next step is to train the model using PyTorch Lightning. The `Trainer` object from `PyTorch Lightning` runs the training of `modlee_model` over one epoch."
      ]
    },
    {
      "cell_type": "code",
      "execution_count": 6,
      "metadata": {
        "colab": {
          "base_uri": "https://localhost:8080/",
          "height": 807,
          "referenced_widgets": [
            "07d5a641831b493eaa79e548ff443049",
            "0acc1663de674c228a4026ec2a3e6898",
            "d9c4fe4a17e94398837095d8b94228b0",
            "6552c7f5494c4f0b89a39e4f0cd66e10",
            "fc4f564d14954438a0201bdd109450f2",
            "4eb812b0b4b94a308747c5f65ea67621",
            "781ec98ecfc94a89a610e617b0e92a98",
            "f0afd3340e1a4ccf8064edae37c853a0",
            "9e28bfda0e4d4121b6bb6a42f1d91e14",
            "29382e9d65ac4405b5a89d490a9cc326",
            "0c32dd358e124bb8ae425e1f1e5e8303",
            "bf01b14b84fd43248d1d1ba8dba695f9",
            "5aeafbbf60674391a0be023205e403a0",
            "4999e058bbad4c3a81e820243af9f3e9",
            "1ae5bc5f648d4b85a56ffdc491838480",
            "ac812bbafe224493bb28d4fd5bb6d879",
            "ea4320eede8e4a2d87ebeeba891a18af",
            "ab6263850b24418f8dcade52c22e015c",
            "a579523fff19481488e8403d5e4800ac",
            "a0d971e96e694d7cba8e102ad6f49e94",
            "1a6edbed91c646449bdb6b81c415e276",
            "74708fc4a324423d8c483dd87f404121"
          ]
        },
        "collapsed": true,
        "id": "fEVHaif-cz9I",
        "outputId": "a1c36c9e-1ab4-4f05-aee4-a49849396ed7"
      },
      "outputs": [
        {
          "name": "stderr",
          "output_type": "stream",
          "text": [
            "\n",
            "  | Name  | Type   | Params | Mode \n",
            "-----------------------------------------\n",
            "0 | model | ResNet | 11.2 M | train\n",
            "-----------------------------------------\n",
            "11.2 M    Trainable params\n",
            "0         Non-trainable params\n",
            "11.2 M    Total params\n",
            "44.727    Total estimated model params size (MB)\n"
          ]
        },
        {
          "name": "stdout",
          "output_type": "stream",
          "text": [
            "Training: |          | 0/? [00:00<?, ?it/s]                                "
          ]
        },
        {
          "name": "stderr",
          "output_type": "stream",
          "text": [
            "INFO:Logging data metafeatures with <class 'modlee.data_metafeatures.ImageDataMetafeatures'>\n",
            "INFO:Logging model metafeatures...\n",
            "INFO:Logging model as code (model_graph.py) and text (model_graph.txt)...\n"
          ]
        },
        {
          "name": "stdout",
          "output_type": "stream",
          "text": [
            "Epoch 0: 100%|██████████| 938/938 [00:34<00:00, 27.50it/s, v_num=4]\n"
          ]
        }
      ],
      "source": [
        "with modlee.start_run() as run:\n",
        "    # Create a PyTorch Lightning trainer and set it to train for 1 epoch\n",
        "    trainer = pl.Trainer(max_epochs=1)\n",
        "\n",
        "    # Train the model using the training and validation data loaders\n",
        "    trainer.fit(\n",
        "        model=modlee_model,\n",
        "        train_dataloaders=train_dataloader,\n",
        "        val_dataloaders=val_dataloader\n",
        "    )"
      ]
    },
    {
      "cell_type": "markdown",
      "metadata": {
        "id": "rzUVidbYkddc"
      },
      "source": [
        "# **Document and Inspect Artifacts**\n",
        "\n",
        "After training, we inspect the artifacts saved by Modlee, including the model graph and various statistics."
      ]
    },
    {
      "cell_type": "code",
      "execution_count": 7,
      "metadata": {
        "colab": {
          "base_uri": "https://localhost:8080/"
        },
        "collapsed": true,
        "id": "assZoBU8c1i8",
        "outputId": "f71f964f-b245-402c-cbe8-a5649fcdadd6"
      },
      "outputs": [
        {
          "name": "stdout",
          "output_type": "stream",
          "text": [
            "Run path: /Users/mansiagrawal/Documents/modlee_pypi/src/modlee/notebooks_tests/mlruns/0/d3285e8aec274a70855b919da0af90e6\n",
            "Saved artifacts: ['model_metafeatures', 'model_size', 'model_summary.txt', 'checkpoints', 'model.py', 'cached_vars', 'transforms.txt', 'stats_rep', 'model', 'model_graph.py', 'model_graph.txt', 'data_metafeatures']\n"
          ]
        }
      ],
      "source": [
        "# Get the path to the last run's saved data\n",
        "last_run_path = modlee.last_run_path()\n",
        "print(f\"Run path: {last_run_path}\")\n",
        "\n",
        "# Get the path to the saved artifacts\n",
        "artifacts_path = os.path.join(last_run_path, 'artifacts')\n",
        "artifacts = os.listdir(artifacts_path)\n",
        "print(f\"Saved artifacts: {artifacts}\")\n",
        "\n",
        "# Set the artifacts path as an environment variable\n",
        "os.environ['ARTIFACTS_PATH'] = artifacts_path\n",
        "\n",
        "# Add the artifacts directory to the system path\n",
        "sys.path.insert(0, artifacts_path)"
      ]
    },
    {
      "cell_type": "code",
      "execution_count": 8,
      "metadata": {
        "colab": {
          "base_uri": "https://localhost:8080/"
        },
        "collapsed": true,
        "id": "WzROpVHLc3Fw",
        "outputId": "e8dfb563-bd5d-4ec1-b6ed-c90b312e1cb3"
      },
      "outputs": [
        {
          "name": "stdout",
          "output_type": "stream",
          "text": [
            "Model graph:\n",
            "\n",
            "import torch, onnx2torch\n",
            "from torch import tensor\n",
            "class Model(torch.nn.Module):\n",
            "    \n",
            "    def __init__(self):\n",
            "        super().__init__()\n",
            "        setattr(self,'Conv', torch.nn.modules.conv.Conv2d(**{'in_channels':3,'out_channels':64,'kernel_size':(7, 7),'stride':(2, 2),'padding':(3, 3),'dilation':(1, 1),'groups':1,'padding_mode':'zeros'}))\n",
            "        setattr(self,'Relu', torch.nn.modules.activation.ReLU(**{'inplace':False}))\n",
            "        setattr(self,'MaxPool', torch.nn.modules.pooling.MaxPool2d(**{'kernel_size':[3, 3],'stride':[2, 2],'padding':[1, 1],'dilation':[1, 1],'return_indices':False,'ceil_mode':False}))\n",
            "        setattr(self,'Conv_1', torch.nn.modules.conv.Conv2d(**{'in_channels':64,'out_channels':64,'kernel_size':(3, 3),'stride':(1, 1),'padding':(1, 1),'dilation':(1, 1),'groups':1,'padding_mode':'zeros'}))\n",
            "        setattr(self,'Relu_1', torch.nn.modules.activation.ReLU(**{'inplace':False}))\n",
            "        setattr(self,'Conv_2', torch.nn.modules.conv.Conv2d(**{'in_channels':64,'out_channels':64,'kernel_size':(3, 3),'stride':(1, 1),'padding':(1, 1),'dilation':(1, 1),'groups':1,'padding_mode':'zeros'}))\n",
            "        setattr(self,'Add', onnx2torch.node_converters.binary_math_operations.OnnxBinaryMathOperation(**{'operation_type':'Add','broadcast':None,'axis':None}))\n",
            "        setattr(self,'Relu_2', torch.nn.modules.activation.ReLU(**{'inplace':False}))\n",
            "        ...\n",
            "        conv = self.Conv(input_1);  input_1 = None\n",
            "        relu = self.Relu(conv);  conv = None\n",
            "        max_pool = self.MaxPool(relu);  relu = None\n",
            "        conv_1 = self.Conv_1(max_pool)\n",
            "        relu_1 = self.Relu_1(conv_1);  conv_1 = None\n",
            "        conv_2 = self.Conv_2(relu_1);  relu_1 = None\n",
            "        add = self.Add(conv_2, max_pool);  conv_2 = max_pool = None\n",
            "        relu_2 = self.Relu_2(add);  add = None\n",
            "        conv_3 = self.Conv_3(relu_2)\n",
            "        relu_3 = self.Relu_3(conv_3);  conv_3 = None\n",
            "        conv_4 = self.Conv_4(relu_3);  relu_3 = None\n",
            "        ...\n"
          ]
        }
      ],
      "source": [
        "# Print out the first few lines of the model\n",
        "print(\"Model graph:\")\n",
        "!sed -n -e 1,15p $ARTIFACTS_PATH/model_graph.py\n",
        "!echo \"        ...\"\n",
        "!sed -n -e 58,68p $ARTIFACTS_PATH/model_graph.py\n",
        "!echo \"        ...\""
      ]
    },
    {
      "cell_type": "code",
      "execution_count": 9,
      "metadata": {
        "colab": {
          "base_uri": "https://localhost:8080/"
        },
        "collapsed": true,
        "id": "_NkvOLtHc4-h",
        "outputId": "5de3e925-efdd-4a13-e92a-f9df1d4c7833"
      },
      "outputs": [
        {
          "name": "stdout",
          "output_type": "stream",
          "text": [
            "Data metafeatures:\n",
            "{\n",
            "  \"dataset_size\": 60032,\n",
            "  \"num_sample\": 1000,\n",
            "  \"batch_element_0\": {\n",
            "    \"resnet18\": {\n",
            "      \"feature_shape\": [\n",
            "        1,\n",
            "        1\n",
            "      ],\n",
            "      \"stats\": {\n",
            "        \"kmeans\": {}\n",
            "      },\n",
            "      \"time_taken\": \"0.00019502639770507812\"\n",
            "    },\n",
            "    \"vgg16\": {\n",
            "      \"feature_shape\": [\n",
            "        1,\n",
            "        1\n",
            "      ],\n",
            "      \"stats\": {\n"
          ]
        }
      ],
      "source": [
        "# Print the first lines of the data metafeatures\n",
        "print(\"Data metafeatures:\")\n",
        "!head -20 $ARTIFACTS_PATH/stats_rep"
      ]
    },
    {
      "cell_type": "markdown",
      "metadata": {
        "id": "KimmDEO-k_8r"
      },
      "source": [
        "# **Rebuild and Validate the Model**\n",
        "\n",
        "We rebuild the model from the saved graph and validate that it produces the same output shapes as the original model."
      ]
    },
    {
      "cell_type": "code",
      "execution_count": 10,
      "metadata": {
        "colab": {
          "base_uri": "https://localhost:8080/"
        },
        "collapsed": true,
        "id": "l8HOP3htc8_2",
        "outputId": "03f67683-3d4a-4add-8566-78053ca6d1e3"
      },
      "outputs": [
        {
          "data": {
            "text/plain": [
              "Model(\n",
              "  (Conv): Conv2d(3, 64, kernel_size=(7, 7), stride=(2, 2), padding=(3, 3))\n",
              "  (Relu): ReLU()\n",
              "  (MaxPool): MaxPool2d(kernel_size=[3, 3], stride=[2, 2], padding=[1, 1], dilation=[1, 1], ceil_mode=False)\n",
              "  (Conv_1): Conv2d(64, 64, kernel_size=(3, 3), stride=(1, 1), padding=(1, 1))\n",
              "  (Relu_1): ReLU()\n",
              "  (Conv_2): Conv2d(64, 64, kernel_size=(3, 3), stride=(1, 1), padding=(1, 1))\n",
              "  (Add): OnnxBinaryMathOperation()\n",
              "  (Relu_2): ReLU()\n",
              "  (Conv_3): Conv2d(64, 64, kernel_size=(3, 3), stride=(1, 1), padding=(1, 1))\n",
              "  (Relu_3): ReLU()\n",
              "  (Conv_4): Conv2d(64, 64, kernel_size=(3, 3), stride=(1, 1), padding=(1, 1))\n",
              "  (Add_1): OnnxBinaryMathOperation()\n",
              "  (Relu_4): ReLU()\n",
              "  (Conv_5): Conv2d(64, 128, kernel_size=(3, 3), stride=(2, 2), padding=(1, 1))\n",
              "  (Relu_5): ReLU()\n",
              "  (Conv_6): Conv2d(128, 128, kernel_size=(3, 3), stride=(1, 1), padding=(1, 1))\n",
              "  (Conv_7): Conv2d(64, 128, kernel_size=(1, 1), stride=(2, 2))\n",
              "  (Add_2): OnnxBinaryMathOperation()\n",
              "  (Relu_6): ReLU()\n",
              "  (Conv_8): Conv2d(128, 128, kernel_size=(3, 3), stride=(1, 1), padding=(1, 1))\n",
              "  (Relu_7): ReLU()\n",
              "  (Conv_9): Conv2d(128, 128, kernel_size=(3, 3), stride=(1, 1), padding=(1, 1))\n",
              "  (Add_3): OnnxBinaryMathOperation()\n",
              "  (Relu_8): ReLU()\n",
              "  (Conv_10): Conv2d(128, 256, kernel_size=(3, 3), stride=(2, 2), padding=(1, 1))\n",
              "  (Relu_9): ReLU()\n",
              "  (Conv_11): Conv2d(256, 256, kernel_size=(3, 3), stride=(1, 1), padding=(1, 1))\n",
              "  (Conv_12): Conv2d(128, 256, kernel_size=(1, 1), stride=(2, 2))\n",
              "  (Add_4): OnnxBinaryMathOperation()\n",
              "  (Relu_10): ReLU()\n",
              "  (Conv_13): Conv2d(256, 256, kernel_size=(3, 3), stride=(1, 1), padding=(1, 1))\n",
              "  (Relu_11): ReLU()\n",
              "  (Conv_14): Conv2d(256, 256, kernel_size=(3, 3), stride=(1, 1), padding=(1, 1))\n",
              "  (Add_5): OnnxBinaryMathOperation()\n",
              "  (Relu_12): ReLU()\n",
              "  (Conv_15): Conv2d(256, 512, kernel_size=(3, 3), stride=(2, 2), padding=(1, 1))\n",
              "  (Relu_13): ReLU()\n",
              "  (Conv_16): Conv2d(512, 512, kernel_size=(3, 3), stride=(1, 1), padding=(1, 1))\n",
              "  (Conv_17): Conv2d(256, 512, kernel_size=(1, 1), stride=(2, 2))\n",
              "  (Add_6): OnnxBinaryMathOperation()\n",
              "  (Relu_14): ReLU()\n",
              "  (Conv_18): Conv2d(512, 512, kernel_size=(3, 3), stride=(1, 1), padding=(1, 1))\n",
              "  (Relu_15): ReLU()\n",
              "  (Conv_19): Conv2d(512, 512, kernel_size=(3, 3), stride=(1, 1), padding=(1, 1))\n",
              "  (Add_7): OnnxBinaryMathOperation()\n",
              "  (Relu_16): ReLU()\n",
              "  (GlobalAveragePool): OnnxGlobalAveragePoolWithKnownInputShape()\n",
              "  (Flatten): Flatten(start_dim=1, end_dim=-1)\n",
              "  (Gemm): Linear(in_features=512, out_features=10, bias=True)\n",
              ")"
            ]
          },
          "execution_count": 10,
          "metadata": {},
          "output_type": "execute_result"
        }
      ],
      "source": [
        "import model_graph\n",
        "\n",
        "# Rebuild the model from the saved graph\n",
        "rebuilt_model = model_graph.Model()\n",
        "\n",
        "# Set both models to evaluation mode\n",
        "modlee_model.eval(); rebuilt_model.eval()"
      ]
    },
    {
      "cell_type": "code",
      "execution_count": 11,
      "metadata": {
        "colab": {
          "base_uri": "https://localhost:8080/"
        },
        "collapsed": true,
        "id": "Dq4sg95Mc-u0",
        "outputId": "7b08f539-589a-423c-f65e-e6ee2dd39882"
      },
      "outputs": [
        {
          "name": "stdout",
          "output_type": "stream",
          "text": [
            "Original input and output shapes: torch.Size([64, 3, 28, 28]), torch.Size([64, 10])\n",
            "Output shape from module-rebuilt model: torch.Size([64, 10])\n"
          ]
        }
      ],
      "source": [
        "# Get a batch from the training loader\n",
        "x, y = next(iter(train_dataloader))\n",
        "\n",
        "with torch.no_grad():\n",
        "    # Get predictions from the original model\n",
        "    y_original = modlee_model(x)\n",
        "    # Get predictions from the rebuilt model\n",
        "    y_rebuilt = rebuilt_model(x)\n",
        "assert y_original.shape == y_rebuilt.shape # Ensure the output shapes match\n",
        "\n",
        "print(f\"Original input and output shapes: {x.shape}, {y_original.shape}\")\n",
        "print(f\"Output shape from module-rebuilt model: {y_rebuilt.shape}\")"
      ]
    },
    {
      "cell_type": "markdown",
      "metadata": {
        "id": "NEk1siZplNtN"
      },
      "source": [
        "# **Load the Model from Checkpoint**\n",
        "\n",
        "Another way is to load the model from a saved checkpoint and validate it produces the same output shapes as the original model."
      ]
    },
    {
      "cell_type": "code",
      "execution_count": 12,
      "metadata": {
        "colab": {
          "base_uri": "https://localhost:8080/"
        },
        "collapsed": true,
        "id": "edoS3tqndAdN",
        "outputId": "94c83a5a-d823-40a3-a9d9-b8f4803d023a"
      },
      "outputs": [
        {
          "name": "stdout",
          "output_type": "stream",
          "text": [
            "Output shape from checkpoint-reloaded model: torch.Size([64, 10])\n"
          ]
        }
      ],
      "source": [
        "# Reloading from the checkpoint\n",
        "reloaded_model = torch.load(os.path.join(artifacts_path, 'model', 'data','model.pth'))\n",
        "\n",
        "# Get predictions from the reloaded model\n",
        "y_reloaded = reloaded_model(x)\n",
        "\n",
        "#Ensure the output shapes match\n",
        "assert y_original.shape == y_reloaded.shape\n",
        "print(f\"Output shape from checkpoint-reloaded model: {y_reloaded.shape}\")"
      ]
    },
    {
      "cell_type": "markdown",
      "metadata": {
        "id": "vcteT2LeI2-G"
      },
      "source": [
        "# **Great Work!**\n",
        "\n",
        "We've completed the setup, imported the necessary libraries, set up the dataset using Fashion MNIST, built a custom convolutional neural network model, utilized Modlee for automatic experiment documentation, and trained our model. Keep experimenting and learning!"
      ]
    }
  ],
  "metadata": {
    "accelerator": "GPU",
    "colab": {
      "gpuType": "T4",
      "provenance": []
    },
    "kernelspec": {
      "display_name": "Python 3",
      "name": "python3"
    },
    "language_info": {
      "codemirror_mode": {
        "name": "ipython",
        "version": 3
      },
      "file_extension": ".py",
      "mimetype": "text/x-python",
      "name": "python",
      "nbconvert_exporter": "python",
      "pygments_lexer": "ipython3",
      "version": "3.12.5"
    },
    "widgets": {
      "application/vnd.jupyter.widget-state+json": {
        "07d5a641831b493eaa79e548ff443049": {
          "model_module": "@jupyter-widgets/controls",
          "model_module_version": "1.5.0",
          "model_name": "HBoxModel",
          "state": {
            "_dom_classes": [],
            "_model_module": "@jupyter-widgets/controls",
            "_model_module_version": "1.5.0",
            "_model_name": "HBoxModel",
            "_view_count": null,
            "_view_module": "@jupyter-widgets/controls",
            "_view_module_version": "1.5.0",
            "_view_name": "HBoxView",
            "box_style": "",
            "children": [
              "IPY_MODEL_0acc1663de674c228a4026ec2a3e6898",
              "IPY_MODEL_d9c4fe4a17e94398837095d8b94228b0",
              "IPY_MODEL_6552c7f5494c4f0b89a39e4f0cd66e10"
            ],
            "layout": "IPY_MODEL_fc4f564d14954438a0201bdd109450f2"
          }
        },
        "0acc1663de674c228a4026ec2a3e6898": {
          "model_module": "@jupyter-widgets/controls",
          "model_module_version": "1.5.0",
          "model_name": "HTMLModel",
          "state": {
            "_dom_classes": [],
            "_model_module": "@jupyter-widgets/controls",
            "_model_module_version": "1.5.0",
            "_model_name": "HTMLModel",
            "_view_count": null,
            "_view_module": "@jupyter-widgets/controls",
            "_view_module_version": "1.5.0",
            "_view_name": "HTMLView",
            "description": "",
            "description_tooltip": null,
            "layout": "IPY_MODEL_4eb812b0b4b94a308747c5f65ea67621",
            "placeholder": "​",
            "style": "IPY_MODEL_781ec98ecfc94a89a610e617b0e92a98",
            "value": "Sanity Checking DataLoader 0: 100%"
          }
        },
        "0c32dd358e124bb8ae425e1f1e5e8303": {
          "model_module": "@jupyter-widgets/controls",
          "model_module_version": "1.5.0",
          "model_name": "DescriptionStyleModel",
          "state": {
            "_model_module": "@jupyter-widgets/controls",
            "_model_module_version": "1.5.0",
            "_model_name": "DescriptionStyleModel",
            "_view_count": null,
            "_view_module": "@jupyter-widgets/base",
            "_view_module_version": "1.2.0",
            "_view_name": "StyleView",
            "description_width": ""
          }
        },
        "1a6edbed91c646449bdb6b81c415e276": {
          "model_module": "@jupyter-widgets/base",
          "model_module_version": "1.2.0",
          "model_name": "LayoutModel",
          "state": {
            "_model_module": "@jupyter-widgets/base",
            "_model_module_version": "1.2.0",
            "_model_name": "LayoutModel",
            "_view_count": null,
            "_view_module": "@jupyter-widgets/base",
            "_view_module_version": "1.2.0",
            "_view_name": "LayoutView",
            "align_content": null,
            "align_items": null,
            "align_self": null,
            "border": null,
            "bottom": null,
            "display": null,
            "flex": null,
            "flex_flow": null,
            "grid_area": null,
            "grid_auto_columns": null,
            "grid_auto_flow": null,
            "grid_auto_rows": null,
            "grid_column": null,
            "grid_gap": null,
            "grid_row": null,
            "grid_template_areas": null,
            "grid_template_columns": null,
            "grid_template_rows": null,
            "height": null,
            "justify_content": null,
            "justify_items": null,
            "left": null,
            "margin": null,
            "max_height": null,
            "max_width": null,
            "min_height": null,
            "min_width": null,
            "object_fit": null,
            "object_position": null,
            "order": null,
            "overflow": null,
            "overflow_x": null,
            "overflow_y": null,
            "padding": null,
            "right": null,
            "top": null,
            "visibility": null,
            "width": null
          }
        },
        "1ae5bc5f648d4b85a56ffdc491838480": {
          "model_module": "@jupyter-widgets/controls",
          "model_module_version": "1.5.0",
          "model_name": "HTMLModel",
          "state": {
            "_dom_classes": [],
            "_model_module": "@jupyter-widgets/controls",
            "_model_module_version": "1.5.0",
            "_model_name": "HTMLModel",
            "_view_count": null,
            "_view_module": "@jupyter-widgets/controls",
            "_view_module_version": "1.5.0",
            "_view_name": "HTMLView",
            "description": "",
            "description_tooltip": null,
            "layout": "IPY_MODEL_1a6edbed91c646449bdb6b81c415e276",
            "placeholder": "​",
            "style": "IPY_MODEL_74708fc4a324423d8c483dd87f404121",
            "value": " 0/? [00:00&lt;?, ?it/s]"
          }
        },
        "29382e9d65ac4405b5a89d490a9cc326": {
          "model_module": "@jupyter-widgets/base",
          "model_module_version": "1.2.0",
          "model_name": "LayoutModel",
          "state": {
            "_model_module": "@jupyter-widgets/base",
            "_model_module_version": "1.2.0",
            "_model_name": "LayoutModel",
            "_view_count": null,
            "_view_module": "@jupyter-widgets/base",
            "_view_module_version": "1.2.0",
            "_view_name": "LayoutView",
            "align_content": null,
            "align_items": null,
            "align_self": null,
            "border": null,
            "bottom": null,
            "display": null,
            "flex": null,
            "flex_flow": null,
            "grid_area": null,
            "grid_auto_columns": null,
            "grid_auto_flow": null,
            "grid_auto_rows": null,
            "grid_column": null,
            "grid_gap": null,
            "grid_row": null,
            "grid_template_areas": null,
            "grid_template_columns": null,
            "grid_template_rows": null,
            "height": null,
            "justify_content": null,
            "justify_items": null,
            "left": null,
            "margin": null,
            "max_height": null,
            "max_width": null,
            "min_height": null,
            "min_width": null,
            "object_fit": null,
            "object_position": null,
            "order": null,
            "overflow": null,
            "overflow_x": null,
            "overflow_y": null,
            "padding": null,
            "right": null,
            "top": null,
            "visibility": null,
            "width": null
          }
        },
        "4999e058bbad4c3a81e820243af9f3e9": {
          "model_module": "@jupyter-widgets/controls",
          "model_module_version": "1.5.0",
          "model_name": "FloatProgressModel",
          "state": {
            "_dom_classes": [],
            "_model_module": "@jupyter-widgets/controls",
            "_model_module_version": "1.5.0",
            "_model_name": "FloatProgressModel",
            "_view_count": null,
            "_view_module": "@jupyter-widgets/controls",
            "_view_module_version": "1.5.0",
            "_view_name": "ProgressView",
            "bar_style": "info",
            "description": "",
            "description_tooltip": null,
            "layout": "IPY_MODEL_a579523fff19481488e8403d5e4800ac",
            "max": 1,
            "min": 0,
            "orientation": "horizontal",
            "style": "IPY_MODEL_a0d971e96e694d7cba8e102ad6f49e94",
            "value": 0
          }
        },
        "4eb812b0b4b94a308747c5f65ea67621": {
          "model_module": "@jupyter-widgets/base",
          "model_module_version": "1.2.0",
          "model_name": "LayoutModel",
          "state": {
            "_model_module": "@jupyter-widgets/base",
            "_model_module_version": "1.2.0",
            "_model_name": "LayoutModel",
            "_view_count": null,
            "_view_module": "@jupyter-widgets/base",
            "_view_module_version": "1.2.0",
            "_view_name": "LayoutView",
            "align_content": null,
            "align_items": null,
            "align_self": null,
            "border": null,
            "bottom": null,
            "display": null,
            "flex": null,
            "flex_flow": null,
            "grid_area": null,
            "grid_auto_columns": null,
            "grid_auto_flow": null,
            "grid_auto_rows": null,
            "grid_column": null,
            "grid_gap": null,
            "grid_row": null,
            "grid_template_areas": null,
            "grid_template_columns": null,
            "grid_template_rows": null,
            "height": null,
            "justify_content": null,
            "justify_items": null,
            "left": null,
            "margin": null,
            "max_height": null,
            "max_width": null,
            "min_height": null,
            "min_width": null,
            "object_fit": null,
            "object_position": null,
            "order": null,
            "overflow": null,
            "overflow_x": null,
            "overflow_y": null,
            "padding": null,
            "right": null,
            "top": null,
            "visibility": null,
            "width": null
          }
        },
        "5aeafbbf60674391a0be023205e403a0": {
          "model_module": "@jupyter-widgets/controls",
          "model_module_version": "1.5.0",
          "model_name": "HTMLModel",
          "state": {
            "_dom_classes": [],
            "_model_module": "@jupyter-widgets/controls",
            "_model_module_version": "1.5.0",
            "_model_name": "HTMLModel",
            "_view_count": null,
            "_view_module": "@jupyter-widgets/controls",
            "_view_module_version": "1.5.0",
            "_view_name": "HTMLView",
            "description": "",
            "description_tooltip": null,
            "layout": "IPY_MODEL_ea4320eede8e4a2d87ebeeba891a18af",
            "placeholder": "​",
            "style": "IPY_MODEL_ab6263850b24418f8dcade52c22e015c",
            "value": "Training: "
          }
        },
        "6552c7f5494c4f0b89a39e4f0cd66e10": {
          "model_module": "@jupyter-widgets/controls",
          "model_module_version": "1.5.0",
          "model_name": "HTMLModel",
          "state": {
            "_dom_classes": [],
            "_model_module": "@jupyter-widgets/controls",
            "_model_module_version": "1.5.0",
            "_model_name": "HTMLModel",
            "_view_count": null,
            "_view_module": "@jupyter-widgets/controls",
            "_view_module_version": "1.5.0",
            "_view_name": "HTMLView",
            "description": "",
            "description_tooltip": null,
            "layout": "IPY_MODEL_29382e9d65ac4405b5a89d490a9cc326",
            "placeholder": "​",
            "style": "IPY_MODEL_0c32dd358e124bb8ae425e1f1e5e8303",
            "value": " 2/2 [00:01&lt;00:00,  1.46it/s]"
          }
        },
        "74708fc4a324423d8c483dd87f404121": {
          "model_module": "@jupyter-widgets/controls",
          "model_module_version": "1.5.0",
          "model_name": "DescriptionStyleModel",
          "state": {
            "_model_module": "@jupyter-widgets/controls",
            "_model_module_version": "1.5.0",
            "_model_name": "DescriptionStyleModel",
            "_view_count": null,
            "_view_module": "@jupyter-widgets/base",
            "_view_module_version": "1.2.0",
            "_view_name": "StyleView",
            "description_width": ""
          }
        },
        "781ec98ecfc94a89a610e617b0e92a98": {
          "model_module": "@jupyter-widgets/controls",
          "model_module_version": "1.5.0",
          "model_name": "DescriptionStyleModel",
          "state": {
            "_model_module": "@jupyter-widgets/controls",
            "_model_module_version": "1.5.0",
            "_model_name": "DescriptionStyleModel",
            "_view_count": null,
            "_view_module": "@jupyter-widgets/base",
            "_view_module_version": "1.2.0",
            "_view_name": "StyleView",
            "description_width": ""
          }
        },
        "9e28bfda0e4d4121b6bb6a42f1d91e14": {
          "model_module": "@jupyter-widgets/controls",
          "model_module_version": "1.5.0",
          "model_name": "ProgressStyleModel",
          "state": {
            "_model_module": "@jupyter-widgets/controls",
            "_model_module_version": "1.5.0",
            "_model_name": "ProgressStyleModel",
            "_view_count": null,
            "_view_module": "@jupyter-widgets/base",
            "_view_module_version": "1.2.0",
            "_view_name": "StyleView",
            "bar_color": null,
            "description_width": ""
          }
        },
        "a0d971e96e694d7cba8e102ad6f49e94": {
          "model_module": "@jupyter-widgets/controls",
          "model_module_version": "1.5.0",
          "model_name": "ProgressStyleModel",
          "state": {
            "_model_module": "@jupyter-widgets/controls",
            "_model_module_version": "1.5.0",
            "_model_name": "ProgressStyleModel",
            "_view_count": null,
            "_view_module": "@jupyter-widgets/base",
            "_view_module_version": "1.2.0",
            "_view_name": "StyleView",
            "bar_color": null,
            "description_width": ""
          }
        },
        "a579523fff19481488e8403d5e4800ac": {
          "model_module": "@jupyter-widgets/base",
          "model_module_version": "1.2.0",
          "model_name": "LayoutModel",
          "state": {
            "_model_module": "@jupyter-widgets/base",
            "_model_module_version": "1.2.0",
            "_model_name": "LayoutModel",
            "_view_count": null,
            "_view_module": "@jupyter-widgets/base",
            "_view_module_version": "1.2.0",
            "_view_name": "LayoutView",
            "align_content": null,
            "align_items": null,
            "align_self": null,
            "border": null,
            "bottom": null,
            "display": null,
            "flex": "2",
            "flex_flow": null,
            "grid_area": null,
            "grid_auto_columns": null,
            "grid_auto_flow": null,
            "grid_auto_rows": null,
            "grid_column": null,
            "grid_gap": null,
            "grid_row": null,
            "grid_template_areas": null,
            "grid_template_columns": null,
            "grid_template_rows": null,
            "height": null,
            "justify_content": null,
            "justify_items": null,
            "left": null,
            "margin": null,
            "max_height": null,
            "max_width": null,
            "min_height": null,
            "min_width": null,
            "object_fit": null,
            "object_position": null,
            "order": null,
            "overflow": null,
            "overflow_x": null,
            "overflow_y": null,
            "padding": null,
            "right": null,
            "top": null,
            "visibility": null,
            "width": null
          }
        },
        "ab6263850b24418f8dcade52c22e015c": {
          "model_module": "@jupyter-widgets/controls",
          "model_module_version": "1.5.0",
          "model_name": "DescriptionStyleModel",
          "state": {
            "_model_module": "@jupyter-widgets/controls",
            "_model_module_version": "1.5.0",
            "_model_name": "DescriptionStyleModel",
            "_view_count": null,
            "_view_module": "@jupyter-widgets/base",
            "_view_module_version": "1.2.0",
            "_view_name": "StyleView",
            "description_width": ""
          }
        },
        "ac812bbafe224493bb28d4fd5bb6d879": {
          "model_module": "@jupyter-widgets/base",
          "model_module_version": "1.2.0",
          "model_name": "LayoutModel",
          "state": {
            "_model_module": "@jupyter-widgets/base",
            "_model_module_version": "1.2.0",
            "_model_name": "LayoutModel",
            "_view_count": null,
            "_view_module": "@jupyter-widgets/base",
            "_view_module_version": "1.2.0",
            "_view_name": "LayoutView",
            "align_content": null,
            "align_items": null,
            "align_self": null,
            "border": null,
            "bottom": null,
            "display": "inline-flex",
            "flex": null,
            "flex_flow": "row wrap",
            "grid_area": null,
            "grid_auto_columns": null,
            "grid_auto_flow": null,
            "grid_auto_rows": null,
            "grid_column": null,
            "grid_gap": null,
            "grid_row": null,
            "grid_template_areas": null,
            "grid_template_columns": null,
            "grid_template_rows": null,
            "height": null,
            "justify_content": null,
            "justify_items": null,
            "left": null,
            "margin": null,
            "max_height": null,
            "max_width": null,
            "min_height": null,
            "min_width": null,
            "object_fit": null,
            "object_position": null,
            "order": null,
            "overflow": null,
            "overflow_x": null,
            "overflow_y": null,
            "padding": null,
            "right": null,
            "top": null,
            "visibility": null,
            "width": "100%"
          }
        },
        "bf01b14b84fd43248d1d1ba8dba695f9": {
          "model_module": "@jupyter-widgets/controls",
          "model_module_version": "1.5.0",
          "model_name": "HBoxModel",
          "state": {
            "_dom_classes": [],
            "_model_module": "@jupyter-widgets/controls",
            "_model_module_version": "1.5.0",
            "_model_name": "HBoxModel",
            "_view_count": null,
            "_view_module": "@jupyter-widgets/controls",
            "_view_module_version": "1.5.0",
            "_view_name": "HBoxView",
            "box_style": "",
            "children": [
              "IPY_MODEL_5aeafbbf60674391a0be023205e403a0",
              "IPY_MODEL_4999e058bbad4c3a81e820243af9f3e9",
              "IPY_MODEL_1ae5bc5f648d4b85a56ffdc491838480"
            ],
            "layout": "IPY_MODEL_ac812bbafe224493bb28d4fd5bb6d879"
          }
        },
        "d9c4fe4a17e94398837095d8b94228b0": {
          "model_module": "@jupyter-widgets/controls",
          "model_module_version": "1.5.0",
          "model_name": "FloatProgressModel",
          "state": {
            "_dom_classes": [],
            "_model_module": "@jupyter-widgets/controls",
            "_model_module_version": "1.5.0",
            "_model_name": "FloatProgressModel",
            "_view_count": null,
            "_view_module": "@jupyter-widgets/controls",
            "_view_module_version": "1.5.0",
            "_view_name": "ProgressView",
            "bar_style": "",
            "description": "",
            "description_tooltip": null,
            "layout": "IPY_MODEL_f0afd3340e1a4ccf8064edae37c853a0",
            "max": 2,
            "min": 0,
            "orientation": "horizontal",
            "style": "IPY_MODEL_9e28bfda0e4d4121b6bb6a42f1d91e14",
            "value": 2
          }
        },
        "ea4320eede8e4a2d87ebeeba891a18af": {
          "model_module": "@jupyter-widgets/base",
          "model_module_version": "1.2.0",
          "model_name": "LayoutModel",
          "state": {
            "_model_module": "@jupyter-widgets/base",
            "_model_module_version": "1.2.0",
            "_model_name": "LayoutModel",
            "_view_count": null,
            "_view_module": "@jupyter-widgets/base",
            "_view_module_version": "1.2.0",
            "_view_name": "LayoutView",
            "align_content": null,
            "align_items": null,
            "align_self": null,
            "border": null,
            "bottom": null,
            "display": null,
            "flex": null,
            "flex_flow": null,
            "grid_area": null,
            "grid_auto_columns": null,
            "grid_auto_flow": null,
            "grid_auto_rows": null,
            "grid_column": null,
            "grid_gap": null,
            "grid_row": null,
            "grid_template_areas": null,
            "grid_template_columns": null,
            "grid_template_rows": null,
            "height": null,
            "justify_content": null,
            "justify_items": null,
            "left": null,
            "margin": null,
            "max_height": null,
            "max_width": null,
            "min_height": null,
            "min_width": null,
            "object_fit": null,
            "object_position": null,
            "order": null,
            "overflow": null,
            "overflow_x": null,
            "overflow_y": null,
            "padding": null,
            "right": null,
            "top": null,
            "visibility": null,
            "width": null
          }
        },
        "f0afd3340e1a4ccf8064edae37c853a0": {
          "model_module": "@jupyter-widgets/base",
          "model_module_version": "1.2.0",
          "model_name": "LayoutModel",
          "state": {
            "_model_module": "@jupyter-widgets/base",
            "_model_module_version": "1.2.0",
            "_model_name": "LayoutModel",
            "_view_count": null,
            "_view_module": "@jupyter-widgets/base",
            "_view_module_version": "1.2.0",
            "_view_name": "LayoutView",
            "align_content": null,
            "align_items": null,
            "align_self": null,
            "border": null,
            "bottom": null,
            "display": null,
            "flex": "2",
            "flex_flow": null,
            "grid_area": null,
            "grid_auto_columns": null,
            "grid_auto_flow": null,
            "grid_auto_rows": null,
            "grid_column": null,
            "grid_gap": null,
            "grid_row": null,
            "grid_template_areas": null,
            "grid_template_columns": null,
            "grid_template_rows": null,
            "height": null,
            "justify_content": null,
            "justify_items": null,
            "left": null,
            "margin": null,
            "max_height": null,
            "max_width": null,
            "min_height": null,
            "min_width": null,
            "object_fit": null,
            "object_position": null,
            "order": null,
            "overflow": null,
            "overflow_x": null,
            "overflow_y": null,
            "padding": null,
            "right": null,
            "top": null,
            "visibility": null,
            "width": null
          }
        },
        "fc4f564d14954438a0201bdd109450f2": {
          "model_module": "@jupyter-widgets/base",
          "model_module_version": "1.2.0",
          "model_name": "LayoutModel",
          "state": {
            "_model_module": "@jupyter-widgets/base",
            "_model_module_version": "1.2.0",
            "_model_name": "LayoutModel",
            "_view_count": null,
            "_view_module": "@jupyter-widgets/base",
            "_view_module_version": "1.2.0",
            "_view_name": "LayoutView",
            "align_content": null,
            "align_items": null,
            "align_self": null,
            "border": null,
            "bottom": null,
            "display": "inline-flex",
            "flex": null,
            "flex_flow": "row wrap",
            "grid_area": null,
            "grid_auto_columns": null,
            "grid_auto_flow": null,
            "grid_auto_rows": null,
            "grid_column": null,
            "grid_gap": null,
            "grid_row": null,
            "grid_template_areas": null,
            "grid_template_columns": null,
            "grid_template_rows": null,
            "height": null,
            "justify_content": null,
            "justify_items": null,
            "left": null,
            "margin": null,
            "max_height": null,
            "max_width": null,
            "min_height": null,
            "min_width": null,
            "object_fit": null,
            "object_position": null,
            "order": null,
            "overflow": null,
            "overflow_x": null,
            "overflow_y": null,
            "padding": null,
            "right": null,
            "top": null,
            "visibility": "hidden",
            "width": "100%"
          }
        }
      }
    }
  },
  "nbformat": 4,
  "nbformat_minor": 0
}
